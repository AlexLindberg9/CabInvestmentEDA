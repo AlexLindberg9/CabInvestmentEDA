{
 "cells": [
  {
   "cell_type": "markdown",
   "metadata": {},
   "source": [
    "# Importing our Datasets: \n",
    "We need to use pandas to get the csv files from their respective URLs"
   ]
  },
  {
   "cell_type": "code",
   "execution_count": 4,
   "metadata": {},
   "outputs": [],
   "source": [
    "# Make necessary imports\n",
    "import pandas as pd\n",
    "import numpy as np\n",
    "from scipy import stats\n",
    "import matplotlib.pyplot as plt\n",
    "\n",
    "# Create datasets from URLs\n",
    "cab_data_url = 'https://raw.githubusercontent.com/DataGlacier/DataSets/main/Cab_Data.csv'\n",
    "cab_data = pd.read_csv(cab_data_url)\n",
    "\n",
    "city_data_url = 'https://raw.githubusercontent.com/DataGlacier/DataSets/main/City.csv'\n",
    "cities = pd.read_csv(city_data_url)\n",
    "\n",
    "customer_id_url = 'https://raw.githubusercontent.com/DataGlacier/DataSets/main/Customer_ID.csv'\n",
    "customers = pd.read_csv(customer_id_url)\n",
    "\n",
    "transaction_id_url = 'https://raw.githubusercontent.com/DataGlacier/DataSets/main/Transaction_ID.csv'\n",
    "transactions = pd.read_csv(transaction_id_url)"
   ]
  },
  {
   "cell_type": "markdown",
   "metadata": {},
   "source": [
    "# The Client \n",
    "XYZ is a private firm in US. Due to remarkable growth in the Cab Industry in last few years and multiple key players in the market, it is planning for an investment in Cab industry and as per their Go-to-Market(G2M) strategy they want to understand the market before taking final decision.\n",
    "\n"
   ]
  },
  {
   "cell_type": "markdown",
   "metadata": {},
   "source": [
    "# Understanding the Data\n",
    "Look at the heads and info of the data to get an understanding of how they are formed"
   ]
  },
  {
   "cell_type": "code",
   "execution_count": 5,
   "metadata": {},
   "outputs": [
    {
     "name": "stdout",
     "output_type": "stream",
     "text": [
      "Cab Data\n",
      "<class 'pandas.core.frame.DataFrame'>\n",
      "RangeIndex: 359392 entries, 0 to 359391\n",
      "Data columns (total 7 columns):\n",
      " #   Column          Non-Null Count   Dtype  \n",
      "---  ------          --------------   -----  \n",
      " 0   Transaction ID  359392 non-null  int64  \n",
      " 1   Date of Travel  359392 non-null  int64  \n",
      " 2   Company         359392 non-null  object \n",
      " 3   City            359392 non-null  object \n",
      " 4   KM Travelled    359392 non-null  float64\n",
      " 5   Price Charged   359392 non-null  float64\n",
      " 6   Cost of Trip    359392 non-null  float64\n",
      "dtypes: float64(3), int64(2), object(2)\n",
      "memory usage: 19.2+ MB\n",
      "----------------------------------------------------------------\n",
      "Cities\n",
      "<class 'pandas.core.frame.DataFrame'>\n",
      "RangeIndex: 20 entries, 0 to 19\n",
      "Data columns (total 3 columns):\n",
      " #   Column      Non-Null Count  Dtype \n",
      "---  ------      --------------  ----- \n",
      " 0   City        20 non-null     object\n",
      " 1   Population  20 non-null     object\n",
      " 2   Users       20 non-null     object\n",
      "dtypes: object(3)\n",
      "memory usage: 608.0+ bytes\n",
      "----------------------------------------------------------------\n",
      "Customers\n",
      "<class 'pandas.core.frame.DataFrame'>\n",
      "RangeIndex: 49171 entries, 0 to 49170\n",
      "Data columns (total 4 columns):\n",
      " #   Column              Non-Null Count  Dtype \n",
      "---  ------              --------------  ----- \n",
      " 0   Customer ID         49171 non-null  int64 \n",
      " 1   Gender              49171 non-null  object\n",
      " 2   Age                 49171 non-null  int64 \n",
      " 3   Income (USD/Month)  49171 non-null  int64 \n",
      "dtypes: int64(3), object(1)\n",
      "memory usage: 1.5+ MB\n",
      "----------------------------------------------------------------\n",
      "Transactions\n",
      "<class 'pandas.core.frame.DataFrame'>\n",
      "RangeIndex: 440098 entries, 0 to 440097\n",
      "Data columns (total 3 columns):\n",
      " #   Column          Non-Null Count   Dtype \n",
      "---  ------          --------------   ----- \n",
      " 0   Transaction ID  440098 non-null  int64 \n",
      " 1   Customer ID     440098 non-null  int64 \n",
      " 2   Payment_Mode    440098 non-null  object\n",
      "dtypes: int64(2), object(1)\n",
      "memory usage: 10.1+ MB\n"
     ]
    },
    {
     "data": {
      "text/html": [
       "<div>\n",
       "<style scoped>\n",
       "    .dataframe tbody tr th:only-of-type {\n",
       "        vertical-align: middle;\n",
       "    }\n",
       "\n",
       "    .dataframe tbody tr th {\n",
       "        vertical-align: top;\n",
       "    }\n",
       "\n",
       "    .dataframe thead th {\n",
       "        text-align: right;\n",
       "    }\n",
       "</style>\n",
       "<table border=\"1\" class=\"dataframe\">\n",
       "  <thead>\n",
       "    <tr style=\"text-align: right;\">\n",
       "      <th></th>\n",
       "      <th>Transaction ID</th>\n",
       "      <th>Customer ID</th>\n",
       "      <th>Payment_Mode</th>\n",
       "    </tr>\n",
       "  </thead>\n",
       "  <tbody>\n",
       "    <tr>\n",
       "      <th>0</th>\n",
       "      <td>10000011</td>\n",
       "      <td>29290</td>\n",
       "      <td>Card</td>\n",
       "    </tr>\n",
       "    <tr>\n",
       "      <th>1</th>\n",
       "      <td>10000012</td>\n",
       "      <td>27703</td>\n",
       "      <td>Card</td>\n",
       "    </tr>\n",
       "    <tr>\n",
       "      <th>2</th>\n",
       "      <td>10000013</td>\n",
       "      <td>28712</td>\n",
       "      <td>Cash</td>\n",
       "    </tr>\n",
       "    <tr>\n",
       "      <th>3</th>\n",
       "      <td>10000014</td>\n",
       "      <td>28020</td>\n",
       "      <td>Cash</td>\n",
       "    </tr>\n",
       "    <tr>\n",
       "      <th>4</th>\n",
       "      <td>10000015</td>\n",
       "      <td>27182</td>\n",
       "      <td>Card</td>\n",
       "    </tr>\n",
       "  </tbody>\n",
       "</table>\n",
       "</div>"
      ],
      "text/plain": [
       "   Transaction ID  Customer ID Payment_Mode\n",
       "0        10000011        29290         Card\n",
       "1        10000012        27703         Card\n",
       "2        10000013        28712         Cash\n",
       "3        10000014        28020         Cash\n",
       "4        10000015        27182         Card"
      ]
     },
     "execution_count": 5,
     "metadata": {},
     "output_type": "execute_result"
    }
   ],
   "source": [
    "print('Cab Data')\n",
    "cab_data.info()\n",
    "cab_data.head()\n",
    "print('----------------------------------------------------------------')\n",
    "print('Cities')\n",
    "cities.info()\n",
    "cities.head()\n",
    "print('----------------------------------------------------------------')\n",
    "print('Customers')\n",
    "customers.info()\n",
    "customers.head()\n",
    "print('----------------------------------------------------------------')\n",
    "print('Transactions')\n",
    "transactions.info()\n",
    "transactions.head()"
   ]
  },
  {
   "cell_type": "markdown",
   "metadata": {},
   "source": [
    "# Understanding the Problem \n",
    "We need to find out more information about our data to further understand our market: "
   ]
  },
  {
   "cell_type": "markdown",
   "metadata": {},
   "source": [
    "Some of our attributes have spaces in them. Let's take these spaces out so the columns can be accessed more easily. "
   ]
  },
  {
   "cell_type": "code",
   "execution_count": 6,
   "metadata": {},
   "outputs": [],
   "source": [
    "cab_data.columns = [c.replace(' ', '_') for c in cab_data.columns]\n",
    "cities.columns = [c.replace(' ', '_') for c in cities.columns]\n",
    "customers.columns = [c.replace(' ', '_') for c in customers.columns]\n",
    "transactions.columns = [c.replace(' ', '_') for c in transactions.columns]"
   ]
  },
  {
   "cell_type": "code",
   "execution_count": 7,
   "metadata": {},
   "outputs": [
    {
     "data": {
      "text/plain": [
       "array(['Pink Cab', 'Yellow Cab'], dtype=object)"
      ]
     },
     "execution_count": 7,
     "metadata": {},
     "output_type": "execute_result"
    }
   ],
   "source": [
    "cab_data.Company.unique()"
   ]
  },
  {
   "cell_type": "markdown",
   "metadata": {},
   "source": [
    "We now can see that there are only 2 companies to be analyzed: Pink Cab and Yellow Cab."
   ]
  },
  {
   "cell_type": "code",
   "execution_count": 8,
   "metadata": {},
   "outputs": [
    {
     "name": "stdout",
     "output_type": "stream",
     "text": [
      "['ATLANTA GA' 'AUSTIN TX' 'BOSTON MA' 'CHICAGO IL' 'DALLAS TX' 'DENVER CO'\n",
      " 'LOS ANGELES CA' 'MIAMI FL' 'NASHVILLE TN' 'NEW YORK NY' 'ORANGE COUNTY'\n",
      " 'PHOENIX AZ' 'PITTSBURGH PA' 'SACRAMENTO CA' 'SAN DIEGO CA' 'SEATTLE WA'\n",
      " 'SILICON VALLEY' 'TUCSON AZ' 'WASHINGTON DC']\n"
     ]
    },
    {
     "data": {
      "text/plain": [
       "19"
      ]
     },
     "execution_count": 8,
     "metadata": {},
     "output_type": "execute_result"
    }
   ],
   "source": [
    "print(cab_data.City.unique())\n",
    "len(cab_data.City.unique())"
   ]
  },
  {
   "cell_type": "markdown",
   "metadata": {},
   "source": [
    "We can see that there are 19 unique cities in which the cab transactions take place spread across the country "
   ]
  },
  {
   "cell_type": "code",
   "execution_count": 9,
   "metadata": {},
   "outputs": [
    {
     "name": "stdout",
     "output_type": "stream",
     "text": [
      "1095\n"
     ]
    }
   ],
   "source": [
    "print(len(cab_data.Date_of_Travel.unique()))"
   ]
  },
  {
   "cell_type": "markdown",
   "metadata": {},
   "source": [
    "As we can see above, there are 1095 unique dates within the dataset. The original problem states that the time period is between 01/31/2016 to 12/31/2016. However, since only 1066 calendar days are between these two dates, I believe this is a typo and that the actual time period is 01/01/2016 to 12/31/2018 in which there are 1096 unique calendar days. "
   ]
  },
  {
   "cell_type": "code",
   "execution_count": 10,
   "metadata": {},
   "outputs": [
    {
     "name": "stdout",
     "output_type": "stream",
     "text": [
      "42371\n",
      "43465\n"
     ]
    }
   ],
   "source": [
    "print(min(cab_data.Date_of_Travel.unique()))\n",
    "print(max(cab_data.Date_of_Travel.unique()))"
   ]
  },
  {
   "cell_type": "markdown",
   "metadata": {},
   "source": [
    "Therefore, the above two dates correspond to 01/01/2016 and 12/31/2018 respectively. "
   ]
  },
  {
   "cell_type": "code",
   "execution_count": 11,
   "metadata": {},
   "outputs": [
    {
     "name": "stdout",
     "output_type": "stream",
     "text": [
      "['Card' 'Cash']\n",
      "2\n"
     ]
    }
   ],
   "source": [
    "print(transactions.Payment_Mode.unique())\n",
    "print(len((transactions.Payment_Mode.unique())))"
   ]
  },
  {
   "cell_type": "markdown",
   "metadata": {},
   "source": [
    "As seen above, there are only 2 forms of payment: Card and Cash."
   ]
  },
  {
   "cell_type": "markdown",
   "metadata": {},
   "source": [
    "# Feature Engineering\n",
    "Let's start to manipulate some of our features so that they will be more useful to us."
   ]
  },
  {
   "cell_type": "markdown",
   "metadata": {},
   "source": [
    "First, it may be useful to create a new feature 'Profit', which tells us the profit that the cab company made on each transaction. This will be calculated by subtracting Cost_Of_Trip from Price_Charged."
   ]
  },
  {
   "cell_type": "code",
   "execution_count": 12,
   "metadata": {},
   "outputs": [
    {
     "data": {
      "text/html": [
       "<div>\n",
       "<style scoped>\n",
       "    .dataframe tbody tr th:only-of-type {\n",
       "        vertical-align: middle;\n",
       "    }\n",
       "\n",
       "    .dataframe tbody tr th {\n",
       "        vertical-align: top;\n",
       "    }\n",
       "\n",
       "    .dataframe thead th {\n",
       "        text-align: right;\n",
       "    }\n",
       "</style>\n",
       "<table border=\"1\" class=\"dataframe\">\n",
       "  <thead>\n",
       "    <tr style=\"text-align: right;\">\n",
       "      <th></th>\n",
       "      <th>Transaction_ID</th>\n",
       "      <th>Date_of_Travel</th>\n",
       "      <th>Company</th>\n",
       "      <th>City</th>\n",
       "      <th>KM_Travelled</th>\n",
       "      <th>Price_Charged</th>\n",
       "      <th>Cost_of_Trip</th>\n",
       "      <th>Profit</th>\n",
       "    </tr>\n",
       "  </thead>\n",
       "  <tbody>\n",
       "    <tr>\n",
       "      <th>0</th>\n",
       "      <td>10000011</td>\n",
       "      <td>42377</td>\n",
       "      <td>Pink Cab</td>\n",
       "      <td>ATLANTA GA</td>\n",
       "      <td>30.45</td>\n",
       "      <td>370.95</td>\n",
       "      <td>313.635</td>\n",
       "      <td>57.315</td>\n",
       "    </tr>\n",
       "    <tr>\n",
       "      <th>1</th>\n",
       "      <td>10000012</td>\n",
       "      <td>42375</td>\n",
       "      <td>Pink Cab</td>\n",
       "      <td>ATLANTA GA</td>\n",
       "      <td>28.62</td>\n",
       "      <td>358.52</td>\n",
       "      <td>334.854</td>\n",
       "      <td>23.666</td>\n",
       "    </tr>\n",
       "    <tr>\n",
       "      <th>2</th>\n",
       "      <td>10000013</td>\n",
       "      <td>42371</td>\n",
       "      <td>Pink Cab</td>\n",
       "      <td>ATLANTA GA</td>\n",
       "      <td>9.04</td>\n",
       "      <td>125.20</td>\n",
       "      <td>97.632</td>\n",
       "      <td>27.568</td>\n",
       "    </tr>\n",
       "    <tr>\n",
       "      <th>3</th>\n",
       "      <td>10000014</td>\n",
       "      <td>42376</td>\n",
       "      <td>Pink Cab</td>\n",
       "      <td>ATLANTA GA</td>\n",
       "      <td>33.17</td>\n",
       "      <td>377.40</td>\n",
       "      <td>351.602</td>\n",
       "      <td>25.798</td>\n",
       "    </tr>\n",
       "    <tr>\n",
       "      <th>4</th>\n",
       "      <td>10000015</td>\n",
       "      <td>42372</td>\n",
       "      <td>Pink Cab</td>\n",
       "      <td>ATLANTA GA</td>\n",
       "      <td>8.73</td>\n",
       "      <td>114.62</td>\n",
       "      <td>97.776</td>\n",
       "      <td>16.844</td>\n",
       "    </tr>\n",
       "  </tbody>\n",
       "</table>\n",
       "</div>"
      ],
      "text/plain": [
       "   Transaction_ID  Date_of_Travel   Company        City  KM_Travelled  \\\n",
       "0        10000011           42377  Pink Cab  ATLANTA GA         30.45   \n",
       "1        10000012           42375  Pink Cab  ATLANTA GA         28.62   \n",
       "2        10000013           42371  Pink Cab  ATLANTA GA          9.04   \n",
       "3        10000014           42376  Pink Cab  ATLANTA GA         33.17   \n",
       "4        10000015           42372  Pink Cab  ATLANTA GA          8.73   \n",
       "\n",
       "   Price_Charged  Cost_of_Trip  Profit  \n",
       "0         370.95       313.635  57.315  \n",
       "1         358.52       334.854  23.666  \n",
       "2         125.20        97.632  27.568  \n",
       "3         377.40       351.602  25.798  \n",
       "4         114.62        97.776  16.844  "
      ]
     },
     "execution_count": 12,
     "metadata": {},
     "output_type": "execute_result"
    }
   ],
   "source": [
    "cab_data[\"Profit\"] = cab_data['Price_Charged'] - cab_data['Cost_of_Trip']\n",
    "cab_data.head()"
   ]
  },
  {
   "cell_type": "markdown",
   "metadata": {},
   "source": [
    "As seen above, we now have a new column profit which calculates the information we were looking for. "
   ]
  },
  {
   "cell_type": "markdown",
   "metadata": {},
   "source": [
    "Second, it may be useful to know how much the customer was charged per KM of distance travelled. Let's add a feature labeled 'Price_per_KM', which calculates this information by dividing 'Price_Charged' by 'KM_Travelled'. "
   ]
  },
  {
   "cell_type": "code",
   "execution_count": 13,
   "metadata": {},
   "outputs": [
    {
     "data": {
      "text/html": [
       "<div>\n",
       "<style scoped>\n",
       "    .dataframe tbody tr th:only-of-type {\n",
       "        vertical-align: middle;\n",
       "    }\n",
       "\n",
       "    .dataframe tbody tr th {\n",
       "        vertical-align: top;\n",
       "    }\n",
       "\n",
       "    .dataframe thead th {\n",
       "        text-align: right;\n",
       "    }\n",
       "</style>\n",
       "<table border=\"1\" class=\"dataframe\">\n",
       "  <thead>\n",
       "    <tr style=\"text-align: right;\">\n",
       "      <th></th>\n",
       "      <th>Transaction_ID</th>\n",
       "      <th>Date_of_Travel</th>\n",
       "      <th>Company</th>\n",
       "      <th>City</th>\n",
       "      <th>KM_Travelled</th>\n",
       "      <th>Price_Charged</th>\n",
       "      <th>Cost_of_Trip</th>\n",
       "      <th>Profit</th>\n",
       "      <th>Price_per_KM</th>\n",
       "    </tr>\n",
       "  </thead>\n",
       "  <tbody>\n",
       "    <tr>\n",
       "      <th>0</th>\n",
       "      <td>10000011</td>\n",
       "      <td>42377</td>\n",
       "      <td>Pink Cab</td>\n",
       "      <td>ATLANTA GA</td>\n",
       "      <td>30.45</td>\n",
       "      <td>370.95</td>\n",
       "      <td>313.635</td>\n",
       "      <td>57.315</td>\n",
       "      <td>12.182266</td>\n",
       "    </tr>\n",
       "    <tr>\n",
       "      <th>1</th>\n",
       "      <td>10000012</td>\n",
       "      <td>42375</td>\n",
       "      <td>Pink Cab</td>\n",
       "      <td>ATLANTA GA</td>\n",
       "      <td>28.62</td>\n",
       "      <td>358.52</td>\n",
       "      <td>334.854</td>\n",
       "      <td>23.666</td>\n",
       "      <td>12.526904</td>\n",
       "    </tr>\n",
       "    <tr>\n",
       "      <th>2</th>\n",
       "      <td>10000013</td>\n",
       "      <td>42371</td>\n",
       "      <td>Pink Cab</td>\n",
       "      <td>ATLANTA GA</td>\n",
       "      <td>9.04</td>\n",
       "      <td>125.20</td>\n",
       "      <td>97.632</td>\n",
       "      <td>27.568</td>\n",
       "      <td>13.849558</td>\n",
       "    </tr>\n",
       "    <tr>\n",
       "      <th>3</th>\n",
       "      <td>10000014</td>\n",
       "      <td>42376</td>\n",
       "      <td>Pink Cab</td>\n",
       "      <td>ATLANTA GA</td>\n",
       "      <td>33.17</td>\n",
       "      <td>377.40</td>\n",
       "      <td>351.602</td>\n",
       "      <td>25.798</td>\n",
       "      <td>11.377751</td>\n",
       "    </tr>\n",
       "    <tr>\n",
       "      <th>4</th>\n",
       "      <td>10000015</td>\n",
       "      <td>42372</td>\n",
       "      <td>Pink Cab</td>\n",
       "      <td>ATLANTA GA</td>\n",
       "      <td>8.73</td>\n",
       "      <td>114.62</td>\n",
       "      <td>97.776</td>\n",
       "      <td>16.844</td>\n",
       "      <td>13.129439</td>\n",
       "    </tr>\n",
       "  </tbody>\n",
       "</table>\n",
       "</div>"
      ],
      "text/plain": [
       "   Transaction_ID  Date_of_Travel   Company        City  KM_Travelled  \\\n",
       "0        10000011           42377  Pink Cab  ATLANTA GA         30.45   \n",
       "1        10000012           42375  Pink Cab  ATLANTA GA         28.62   \n",
       "2        10000013           42371  Pink Cab  ATLANTA GA          9.04   \n",
       "3        10000014           42376  Pink Cab  ATLANTA GA         33.17   \n",
       "4        10000015           42372  Pink Cab  ATLANTA GA          8.73   \n",
       "\n",
       "   Price_Charged  Cost_of_Trip  Profit  Price_per_KM  \n",
       "0         370.95       313.635  57.315     12.182266  \n",
       "1         358.52       334.854  23.666     12.526904  \n",
       "2         125.20        97.632  27.568     13.849558  \n",
       "3         377.40       351.602  25.798     11.377751  \n",
       "4         114.62        97.776  16.844     13.129439  "
      ]
     },
     "execution_count": 13,
     "metadata": {},
     "output_type": "execute_result"
    }
   ],
   "source": [
    "cab_data[\"Price_per_KM\"] = cab_data['Price_Charged'] / cab_data['KM_Travelled']\n",
    "cab_data.head()"
   ]
  },
  {
   "cell_type": "markdown",
   "metadata": {},
   "source": [
    "As seen above, we now have another new feature that provides us with the Price per KM information. "
   ]
  },
  {
   "cell_type": "markdown",
   "metadata": {},
   "source": [
    "Third, it might be useful to know the percentage of each city that uses cabs from the two companies. To gain this information, let's create one feature: 'City_Per' which tells us the percent of each city that uses the either of the two cab companies. Note: I am assuming that the feature 'Users' is referring to the number of users of the two companies combined. "
   ]
  },
  {
   "cell_type": "code",
   "execution_count": 14,
   "metadata": {},
   "outputs": [
    {
     "data": {
      "text/html": [
       "<div>\n",
       "<style scoped>\n",
       "    .dataframe tbody tr th:only-of-type {\n",
       "        vertical-align: middle;\n",
       "    }\n",
       "\n",
       "    .dataframe tbody tr th {\n",
       "        vertical-align: top;\n",
       "    }\n",
       "\n",
       "    .dataframe thead th {\n",
       "        text-align: right;\n",
       "    }\n",
       "</style>\n",
       "<table border=\"1\" class=\"dataframe\">\n",
       "  <thead>\n",
       "    <tr style=\"text-align: right;\">\n",
       "      <th></th>\n",
       "      <th>City</th>\n",
       "      <th>Population</th>\n",
       "      <th>Users</th>\n",
       "      <th>City_Per</th>\n",
       "    </tr>\n",
       "  </thead>\n",
       "  <tbody>\n",
       "    <tr>\n",
       "      <th>0</th>\n",
       "      <td>NEW YORK NY</td>\n",
       "      <td>8405837.0</td>\n",
       "      <td>302149.0</td>\n",
       "      <td>0.035945</td>\n",
       "    </tr>\n",
       "    <tr>\n",
       "      <th>1</th>\n",
       "      <td>CHICAGO IL</td>\n",
       "      <td>1955130.0</td>\n",
       "      <td>164468.0</td>\n",
       "      <td>0.084121</td>\n",
       "    </tr>\n",
       "    <tr>\n",
       "      <th>2</th>\n",
       "      <td>LOS ANGELES CA</td>\n",
       "      <td>1595037.0</td>\n",
       "      <td>144132.0</td>\n",
       "      <td>0.090363</td>\n",
       "    </tr>\n",
       "    <tr>\n",
       "      <th>3</th>\n",
       "      <td>MIAMI FL</td>\n",
       "      <td>1339155.0</td>\n",
       "      <td>17675.0</td>\n",
       "      <td>0.013199</td>\n",
       "    </tr>\n",
       "    <tr>\n",
       "      <th>4</th>\n",
       "      <td>SILICON VALLEY</td>\n",
       "      <td>1177609.0</td>\n",
       "      <td>27247.0</td>\n",
       "      <td>0.023138</td>\n",
       "    </tr>\n",
       "  </tbody>\n",
       "</table>\n",
       "</div>"
      ],
      "text/plain": [
       "             City  Population     Users  City_Per\n",
       "0     NEW YORK NY   8405837.0  302149.0  0.035945\n",
       "1      CHICAGO IL   1955130.0  164468.0  0.084121\n",
       "2  LOS ANGELES CA   1595037.0  144132.0  0.090363\n",
       "3        MIAMI FL   1339155.0   17675.0  0.013199\n",
       "4  SILICON VALLEY   1177609.0   27247.0  0.023138"
      ]
     },
     "execution_count": 14,
     "metadata": {},
     "output_type": "execute_result"
    }
   ],
   "source": [
    "# First, we must remove the commas from the 'Users' and 'Population' columns in Cities\n",
    "cities['Users'] = cities['Users'].str.replace(',', '')\n",
    "cities['Population'] = cities['Population'].str.replace(',', '')\n",
    "cities.head()\n",
    "\n",
    "# Then, we must convert 'Users' and 'Population' in Cities to integers instead of strings\n",
    "cities['Users'] = cities['Users'].astype(float)\n",
    "cities['Population'] = cities['Population'].astype(float)\n",
    "\n",
    "cities[\"City_Per\"] = cities['Users'] / cities['Population']\n",
    "cities.head()"
   ]
  },
  {
   "cell_type": "markdown",
   "metadata": {},
   "source": [
    "We now have a new feature 'City_Per' that tells us the decimal percentage for the amount of users in each city."
   ]
  },
  {
   "cell_type": "markdown",
   "metadata": {},
   "source": [
    "Fourth, since Gender is binary in this dataset, we can convert these values to 0s and 1s. In this case, we will say that Male represents 1 and Female represents 0."
   ]
  },
  {
   "cell_type": "code",
   "execution_count": 15,
   "metadata": {},
   "outputs": [],
   "source": [
    "customers['Gender'] = customers['Gender'].replace(['Male', 'Female'],['1', '0'])\n",
    "customers['Gender'] = customers['Gender'].astype(int)"
   ]
  },
  {
   "cell_type": "code",
   "execution_count": 16,
   "metadata": {},
   "outputs": [
    {
     "data": {
      "text/html": [
       "<div>\n",
       "<style scoped>\n",
       "    .dataframe tbody tr th:only-of-type {\n",
       "        vertical-align: middle;\n",
       "    }\n",
       "\n",
       "    .dataframe tbody tr th {\n",
       "        vertical-align: top;\n",
       "    }\n",
       "\n",
       "    .dataframe thead th {\n",
       "        text-align: right;\n",
       "    }\n",
       "</style>\n",
       "<table border=\"1\" class=\"dataframe\">\n",
       "  <thead>\n",
       "    <tr style=\"text-align: right;\">\n",
       "      <th></th>\n",
       "      <th>Customer_ID</th>\n",
       "      <th>Gender</th>\n",
       "      <th>Age</th>\n",
       "      <th>Income_(USD/Month)</th>\n",
       "    </tr>\n",
       "  </thead>\n",
       "  <tbody>\n",
       "    <tr>\n",
       "      <th>0</th>\n",
       "      <td>29290</td>\n",
       "      <td>1</td>\n",
       "      <td>28</td>\n",
       "      <td>10813</td>\n",
       "    </tr>\n",
       "    <tr>\n",
       "      <th>1</th>\n",
       "      <td>27703</td>\n",
       "      <td>1</td>\n",
       "      <td>27</td>\n",
       "      <td>9237</td>\n",
       "    </tr>\n",
       "    <tr>\n",
       "      <th>2</th>\n",
       "      <td>28712</td>\n",
       "      <td>1</td>\n",
       "      <td>53</td>\n",
       "      <td>11242</td>\n",
       "    </tr>\n",
       "    <tr>\n",
       "      <th>3</th>\n",
       "      <td>28020</td>\n",
       "      <td>1</td>\n",
       "      <td>23</td>\n",
       "      <td>23327</td>\n",
       "    </tr>\n",
       "    <tr>\n",
       "      <th>4</th>\n",
       "      <td>27182</td>\n",
       "      <td>1</td>\n",
       "      <td>33</td>\n",
       "      <td>8536</td>\n",
       "    </tr>\n",
       "  </tbody>\n",
       "</table>\n",
       "</div>"
      ],
      "text/plain": [
       "   Customer_ID  Gender  Age  Income_(USD/Month)\n",
       "0        29290       1   28               10813\n",
       "1        27703       1   27                9237\n",
       "2        28712       1   53               11242\n",
       "3        28020       1   23               23327\n",
       "4        27182       1   33                8536"
      ]
     },
     "execution_count": 16,
     "metadata": {},
     "output_type": "execute_result"
    }
   ],
   "source": [
    "customers.head()"
   ]
  },
  {
   "cell_type": "markdown",
   "metadata": {},
   "source": [
    "We now have 'Gender' as a binary column. "
   ]
  },
  {
   "cell_type": "markdown",
   "metadata": {},
   "source": [
    "Fifth, it might be useful to know the percentage of a customers income that they are spending on any given transaction. This will give us an idea of what the money spent means to each individual. Let's call this column 'Percent_of_Income'. In order to create this, we will have to make use of the relationship between 'Customers' and 'Transactions' through the 'Customer_ID', along with the relationship between 'Cab-Data' and 'Transactions' through the 'Transaction-ID'. "
   ]
  },
  {
   "cell_type": "code",
   "execution_count": 17,
   "metadata": {
    "scrolled": true
   },
   "outputs": [
    {
     "data": {
      "text/html": [
       "<div>\n",
       "<style scoped>\n",
       "    .dataframe tbody tr th:only-of-type {\n",
       "        vertical-align: middle;\n",
       "    }\n",
       "\n",
       "    .dataframe tbody tr th {\n",
       "        vertical-align: top;\n",
       "    }\n",
       "\n",
       "    .dataframe thead th {\n",
       "        text-align: right;\n",
       "    }\n",
       "</style>\n",
       "<table border=\"1\" class=\"dataframe\">\n",
       "  <thead>\n",
       "    <tr style=\"text-align: right;\">\n",
       "      <th></th>\n",
       "      <th>Transaction_ID</th>\n",
       "      <th>Customer_ID</th>\n",
       "      <th>Payment_Mode</th>\n",
       "      <th>Percent_of_Income</th>\n",
       "    </tr>\n",
       "  </thead>\n",
       "  <tbody>\n",
       "    <tr>\n",
       "      <th>0</th>\n",
       "      <td>10000011</td>\n",
       "      <td>29290</td>\n",
       "      <td>Card</td>\n",
       "      <td>0.034306</td>\n",
       "    </tr>\n",
       "    <tr>\n",
       "      <th>1</th>\n",
       "      <td>10000012</td>\n",
       "      <td>27703</td>\n",
       "      <td>Card</td>\n",
       "      <td>0.038813</td>\n",
       "    </tr>\n",
       "    <tr>\n",
       "      <th>2</th>\n",
       "      <td>10000013</td>\n",
       "      <td>28712</td>\n",
       "      <td>Cash</td>\n",
       "      <td>0.011137</td>\n",
       "    </tr>\n",
       "    <tr>\n",
       "      <th>3</th>\n",
       "      <td>10000014</td>\n",
       "      <td>28020</td>\n",
       "      <td>Cash</td>\n",
       "      <td>0.016179</td>\n",
       "    </tr>\n",
       "    <tr>\n",
       "      <th>4</th>\n",
       "      <td>10000015</td>\n",
       "      <td>27182</td>\n",
       "      <td>Card</td>\n",
       "      <td>0.013428</td>\n",
       "    </tr>\n",
       "    <tr>\n",
       "      <th>...</th>\n",
       "      <td>...</td>\n",
       "      <td>...</td>\n",
       "      <td>...</td>\n",
       "      <td>...</td>\n",
       "    </tr>\n",
       "    <tr>\n",
       "      <th>440093</th>\n",
       "      <td>10440104</td>\n",
       "      <td>53286</td>\n",
       "      <td>Cash</td>\n",
       "      <td>0.017425</td>\n",
       "    </tr>\n",
       "    <tr>\n",
       "      <th>440094</th>\n",
       "      <td>10440105</td>\n",
       "      <td>52265</td>\n",
       "      <td>Cash</td>\n",
       "      <td>0.054867</td>\n",
       "    </tr>\n",
       "    <tr>\n",
       "      <th>440095</th>\n",
       "      <td>10440106</td>\n",
       "      <td>52175</td>\n",
       "      <td>Card</td>\n",
       "      <td>0.022760</td>\n",
       "    </tr>\n",
       "    <tr>\n",
       "      <th>440096</th>\n",
       "      <td>10440107</td>\n",
       "      <td>52917</td>\n",
       "      <td>Card</td>\n",
       "      <td>0.016978</td>\n",
       "    </tr>\n",
       "    <tr>\n",
       "      <th>440097</th>\n",
       "      <td>10440108</td>\n",
       "      <td>51587</td>\n",
       "      <td>Card</td>\n",
       "      <td>NaN</td>\n",
       "    </tr>\n",
       "  </tbody>\n",
       "</table>\n",
       "<p>440098 rows × 4 columns</p>\n",
       "</div>"
      ],
      "text/plain": [
       "        Transaction_ID  Customer_ID Payment_Mode  Percent_of_Income\n",
       "0             10000011        29290         Card           0.034306\n",
       "1             10000012        27703         Card           0.038813\n",
       "2             10000013        28712         Cash           0.011137\n",
       "3             10000014        28020         Cash           0.016179\n",
       "4             10000015        27182         Card           0.013428\n",
       "...                ...          ...          ...                ...\n",
       "440093        10440104        53286         Cash           0.017425\n",
       "440094        10440105        52265         Cash           0.054867\n",
       "440095        10440106        52175         Card           0.022760\n",
       "440096        10440107        52917         Card           0.016978\n",
       "440097        10440108        51587         Card                NaN\n",
       "\n",
       "[440098 rows x 4 columns]"
      ]
     },
     "execution_count": 17,
     "metadata": {},
     "output_type": "execute_result"
    }
   ],
   "source": [
    "# First, merge with cab_data through the 'Transaction_ID' relationship. We then need to trim the unwanted columns\n",
    "transactions = transactions.merge(cab_data, left_on = 'Transaction_ID', right_on = 'Transaction_ID', how = 'left')\n",
    "transactions = transactions[['Transaction_ID', 'Customer_ID', 'Payment_Mode', 'Price_Charged']]\n",
    "\n",
    "# Second, merge with customers through the 'Customer_ID' relationship. We then need to trim the unwanted columns\n",
    "transactions = transactions.merge(customers, left_on = 'Customer_ID', right_on = 'Customer_ID', how = 'left')\n",
    "transactions = transactions[['Transaction_ID', 'Customer_ID', 'Payment_Mode', 'Price_Charged', 'Income_(USD/Month)']]\n",
    "\n",
    "# Now, we will create the 'Percent_of_Income' column that we desire\n",
    "transactions['Percent_of_Income'] = transactions['Price_Charged'] / transactions['Income_(USD/Month)']\n",
    "\n",
    "# Let's now drop the 'Price-Charged' and 'Income' columns since we already have those in other datasets\n",
    "transactions = transactions[['Transaction_ID', 'Customer_ID', 'Payment_Mode', 'Percent_of_Income']]\n",
    "transactions"
   ]
  },
  {
   "cell_type": "markdown",
   "metadata": {},
   "source": [
    "We now have the added column that we were looking for. "
   ]
  },
  {
   "cell_type": "markdown",
   "metadata": {},
   "source": [
    "# Assembling our Master Dataset: \n",
    "Now that we have engineered the features to our liking, it is time to assemble our master dataset, which will combine all useful information into a singular dataframe. The PK for this dataset will be 'Transaction_ID' and it will contain 17 features, 5 of which were engineered in the previous section. "
   ]
  },
  {
   "cell_type": "code",
   "execution_count": 18,
   "metadata": {},
   "outputs": [
    {
     "data": {
      "text/html": [
       "<div>\n",
       "<style scoped>\n",
       "    .dataframe tbody tr th:only-of-type {\n",
       "        vertical-align: middle;\n",
       "    }\n",
       "\n",
       "    .dataframe tbody tr th {\n",
       "        vertical-align: top;\n",
       "    }\n",
       "\n",
       "    .dataframe thead th {\n",
       "        text-align: right;\n",
       "    }\n",
       "</style>\n",
       "<table border=\"1\" class=\"dataframe\">\n",
       "  <thead>\n",
       "    <tr style=\"text-align: right;\">\n",
       "      <th></th>\n",
       "      <th>Transaction_ID</th>\n",
       "      <th>Date_of_Travel</th>\n",
       "      <th>Company</th>\n",
       "      <th>City</th>\n",
       "      <th>KM_Travelled</th>\n",
       "      <th>Price_Charged</th>\n",
       "      <th>Cost_of_Trip</th>\n",
       "      <th>Profit</th>\n",
       "      <th>Price_per_KM</th>\n",
       "      <th>Population</th>\n",
       "      <th>Users</th>\n",
       "      <th>City_Per</th>\n",
       "      <th>Customer_ID</th>\n",
       "      <th>Payment_Mode</th>\n",
       "      <th>Percent_of_Income</th>\n",
       "      <th>Gender</th>\n",
       "      <th>Age</th>\n",
       "      <th>Income_(USD/Month)</th>\n",
       "    </tr>\n",
       "  </thead>\n",
       "  <tbody>\n",
       "    <tr>\n",
       "      <th>0</th>\n",
       "      <td>10000011</td>\n",
       "      <td>42377</td>\n",
       "      <td>Pink Cab</td>\n",
       "      <td>ATLANTA GA</td>\n",
       "      <td>30.45</td>\n",
       "      <td>370.95</td>\n",
       "      <td>313.6350</td>\n",
       "      <td>57.3150</td>\n",
       "      <td>12.182266</td>\n",
       "      <td>814885.0</td>\n",
       "      <td>24701.0</td>\n",
       "      <td>0.030312</td>\n",
       "      <td>29290</td>\n",
       "      <td>Card</td>\n",
       "      <td>0.034306</td>\n",
       "      <td>1</td>\n",
       "      <td>28</td>\n",
       "      <td>10813</td>\n",
       "    </tr>\n",
       "    <tr>\n",
       "      <th>1</th>\n",
       "      <td>10000012</td>\n",
       "      <td>42375</td>\n",
       "      <td>Pink Cab</td>\n",
       "      <td>ATLANTA GA</td>\n",
       "      <td>28.62</td>\n",
       "      <td>358.52</td>\n",
       "      <td>334.8540</td>\n",
       "      <td>23.6660</td>\n",
       "      <td>12.526904</td>\n",
       "      <td>814885.0</td>\n",
       "      <td>24701.0</td>\n",
       "      <td>0.030312</td>\n",
       "      <td>27703</td>\n",
       "      <td>Card</td>\n",
       "      <td>0.038813</td>\n",
       "      <td>1</td>\n",
       "      <td>27</td>\n",
       "      <td>9237</td>\n",
       "    </tr>\n",
       "    <tr>\n",
       "      <th>2</th>\n",
       "      <td>10000013</td>\n",
       "      <td>42371</td>\n",
       "      <td>Pink Cab</td>\n",
       "      <td>ATLANTA GA</td>\n",
       "      <td>9.04</td>\n",
       "      <td>125.20</td>\n",
       "      <td>97.6320</td>\n",
       "      <td>27.5680</td>\n",
       "      <td>13.849558</td>\n",
       "      <td>814885.0</td>\n",
       "      <td>24701.0</td>\n",
       "      <td>0.030312</td>\n",
       "      <td>28712</td>\n",
       "      <td>Cash</td>\n",
       "      <td>0.011137</td>\n",
       "      <td>1</td>\n",
       "      <td>53</td>\n",
       "      <td>11242</td>\n",
       "    </tr>\n",
       "    <tr>\n",
       "      <th>3</th>\n",
       "      <td>10000014</td>\n",
       "      <td>42376</td>\n",
       "      <td>Pink Cab</td>\n",
       "      <td>ATLANTA GA</td>\n",
       "      <td>33.17</td>\n",
       "      <td>377.40</td>\n",
       "      <td>351.6020</td>\n",
       "      <td>25.7980</td>\n",
       "      <td>11.377751</td>\n",
       "      <td>814885.0</td>\n",
       "      <td>24701.0</td>\n",
       "      <td>0.030312</td>\n",
       "      <td>28020</td>\n",
       "      <td>Cash</td>\n",
       "      <td>0.016179</td>\n",
       "      <td>1</td>\n",
       "      <td>23</td>\n",
       "      <td>23327</td>\n",
       "    </tr>\n",
       "    <tr>\n",
       "      <th>4</th>\n",
       "      <td>10000015</td>\n",
       "      <td>42372</td>\n",
       "      <td>Pink Cab</td>\n",
       "      <td>ATLANTA GA</td>\n",
       "      <td>8.73</td>\n",
       "      <td>114.62</td>\n",
       "      <td>97.7760</td>\n",
       "      <td>16.8440</td>\n",
       "      <td>13.129439</td>\n",
       "      <td>814885.0</td>\n",
       "      <td>24701.0</td>\n",
       "      <td>0.030312</td>\n",
       "      <td>27182</td>\n",
       "      <td>Card</td>\n",
       "      <td>0.013428</td>\n",
       "      <td>1</td>\n",
       "      <td>33</td>\n",
       "      <td>8536</td>\n",
       "    </tr>\n",
       "    <tr>\n",
       "      <th>...</th>\n",
       "      <td>...</td>\n",
       "      <td>...</td>\n",
       "      <td>...</td>\n",
       "      <td>...</td>\n",
       "      <td>...</td>\n",
       "      <td>...</td>\n",
       "      <td>...</td>\n",
       "      <td>...</td>\n",
       "      <td>...</td>\n",
       "      <td>...</td>\n",
       "      <td>...</td>\n",
       "      <td>...</td>\n",
       "      <td>...</td>\n",
       "      <td>...</td>\n",
       "      <td>...</td>\n",
       "      <td>...</td>\n",
       "      <td>...</td>\n",
       "      <td>...</td>\n",
       "    </tr>\n",
       "    <tr>\n",
       "      <th>359387</th>\n",
       "      <td>10440101</td>\n",
       "      <td>43108</td>\n",
       "      <td>Yellow Cab</td>\n",
       "      <td>WASHINGTON DC</td>\n",
       "      <td>4.80</td>\n",
       "      <td>69.24</td>\n",
       "      <td>63.3600</td>\n",
       "      <td>5.8800</td>\n",
       "      <td>14.425000</td>\n",
       "      <td>418859.0</td>\n",
       "      <td>127001.0</td>\n",
       "      <td>0.303207</td>\n",
       "      <td>52392</td>\n",
       "      <td>Cash</td>\n",
       "      <td>0.004424</td>\n",
       "      <td>1</td>\n",
       "      <td>24</td>\n",
       "      <td>15651</td>\n",
       "    </tr>\n",
       "    <tr>\n",
       "      <th>359388</th>\n",
       "      <td>10440104</td>\n",
       "      <td>43104</td>\n",
       "      <td>Yellow Cab</td>\n",
       "      <td>WASHINGTON DC</td>\n",
       "      <td>8.40</td>\n",
       "      <td>113.75</td>\n",
       "      <td>106.8480</td>\n",
       "      <td>6.9020</td>\n",
       "      <td>13.541667</td>\n",
       "      <td>418859.0</td>\n",
       "      <td>127001.0</td>\n",
       "      <td>0.303207</td>\n",
       "      <td>53286</td>\n",
       "      <td>Cash</td>\n",
       "      <td>0.017425</td>\n",
       "      <td>1</td>\n",
       "      <td>32</td>\n",
       "      <td>6528</td>\n",
       "    </tr>\n",
       "    <tr>\n",
       "      <th>359389</th>\n",
       "      <td>10440105</td>\n",
       "      <td>43105</td>\n",
       "      <td>Yellow Cab</td>\n",
       "      <td>WASHINGTON DC</td>\n",
       "      <td>27.75</td>\n",
       "      <td>437.07</td>\n",
       "      <td>349.6500</td>\n",
       "      <td>87.4200</td>\n",
       "      <td>15.750270</td>\n",
       "      <td>418859.0</td>\n",
       "      <td>127001.0</td>\n",
       "      <td>0.303207</td>\n",
       "      <td>52265</td>\n",
       "      <td>Cash</td>\n",
       "      <td>0.054867</td>\n",
       "      <td>1</td>\n",
       "      <td>56</td>\n",
       "      <td>7966</td>\n",
       "    </tr>\n",
       "    <tr>\n",
       "      <th>359390</th>\n",
       "      <td>10440106</td>\n",
       "      <td>43105</td>\n",
       "      <td>Yellow Cab</td>\n",
       "      <td>WASHINGTON DC</td>\n",
       "      <td>8.80</td>\n",
       "      <td>146.19</td>\n",
       "      <td>114.0480</td>\n",
       "      <td>32.1420</td>\n",
       "      <td>16.612500</td>\n",
       "      <td>418859.0</td>\n",
       "      <td>127001.0</td>\n",
       "      <td>0.303207</td>\n",
       "      <td>52175</td>\n",
       "      <td>Card</td>\n",
       "      <td>0.022760</td>\n",
       "      <td>1</td>\n",
       "      <td>32</td>\n",
       "      <td>6423</td>\n",
       "    </tr>\n",
       "    <tr>\n",
       "      <th>359391</th>\n",
       "      <td>10440107</td>\n",
       "      <td>43102</td>\n",
       "      <td>Yellow Cab</td>\n",
       "      <td>WASHINGTON DC</td>\n",
       "      <td>12.76</td>\n",
       "      <td>191.58</td>\n",
       "      <td>177.6192</td>\n",
       "      <td>13.9608</td>\n",
       "      <td>15.014107</td>\n",
       "      <td>418859.0</td>\n",
       "      <td>127001.0</td>\n",
       "      <td>0.303207</td>\n",
       "      <td>52917</td>\n",
       "      <td>Card</td>\n",
       "      <td>0.016978</td>\n",
       "      <td>1</td>\n",
       "      <td>20</td>\n",
       "      <td>11284</td>\n",
       "    </tr>\n",
       "  </tbody>\n",
       "</table>\n",
       "<p>359392 rows × 18 columns</p>\n",
       "</div>"
      ],
      "text/plain": [
       "        Transaction_ID  Date_of_Travel     Company           City  \\\n",
       "0             10000011           42377    Pink Cab     ATLANTA GA   \n",
       "1             10000012           42375    Pink Cab     ATLANTA GA   \n",
       "2             10000013           42371    Pink Cab     ATLANTA GA   \n",
       "3             10000014           42376    Pink Cab     ATLANTA GA   \n",
       "4             10000015           42372    Pink Cab     ATLANTA GA   \n",
       "...                ...             ...         ...            ...   \n",
       "359387        10440101           43108  Yellow Cab  WASHINGTON DC   \n",
       "359388        10440104           43104  Yellow Cab  WASHINGTON DC   \n",
       "359389        10440105           43105  Yellow Cab  WASHINGTON DC   \n",
       "359390        10440106           43105  Yellow Cab  WASHINGTON DC   \n",
       "359391        10440107           43102  Yellow Cab  WASHINGTON DC   \n",
       "\n",
       "        KM_Travelled  Price_Charged  Cost_of_Trip   Profit  Price_per_KM  \\\n",
       "0              30.45         370.95      313.6350  57.3150     12.182266   \n",
       "1              28.62         358.52      334.8540  23.6660     12.526904   \n",
       "2               9.04         125.20       97.6320  27.5680     13.849558   \n",
       "3              33.17         377.40      351.6020  25.7980     11.377751   \n",
       "4               8.73         114.62       97.7760  16.8440     13.129439   \n",
       "...              ...            ...           ...      ...           ...   \n",
       "359387          4.80          69.24       63.3600   5.8800     14.425000   \n",
       "359388          8.40         113.75      106.8480   6.9020     13.541667   \n",
       "359389         27.75         437.07      349.6500  87.4200     15.750270   \n",
       "359390          8.80         146.19      114.0480  32.1420     16.612500   \n",
       "359391         12.76         191.58      177.6192  13.9608     15.014107   \n",
       "\n",
       "        Population     Users  City_Per  Customer_ID Payment_Mode  \\\n",
       "0         814885.0   24701.0  0.030312        29290         Card   \n",
       "1         814885.0   24701.0  0.030312        27703         Card   \n",
       "2         814885.0   24701.0  0.030312        28712         Cash   \n",
       "3         814885.0   24701.0  0.030312        28020         Cash   \n",
       "4         814885.0   24701.0  0.030312        27182         Card   \n",
       "...            ...       ...       ...          ...          ...   \n",
       "359387    418859.0  127001.0  0.303207        52392         Cash   \n",
       "359388    418859.0  127001.0  0.303207        53286         Cash   \n",
       "359389    418859.0  127001.0  0.303207        52265         Cash   \n",
       "359390    418859.0  127001.0  0.303207        52175         Card   \n",
       "359391    418859.0  127001.0  0.303207        52917         Card   \n",
       "\n",
       "        Percent_of_Income  Gender  Age  Income_(USD/Month)  \n",
       "0                0.034306       1   28               10813  \n",
       "1                0.038813       1   27                9237  \n",
       "2                0.011137       1   53               11242  \n",
       "3                0.016179       1   23               23327  \n",
       "4                0.013428       1   33                8536  \n",
       "...                   ...     ...  ...                 ...  \n",
       "359387           0.004424       1   24               15651  \n",
       "359388           0.017425       1   32                6528  \n",
       "359389           0.054867       1   56                7966  \n",
       "359390           0.022760       1   32                6423  \n",
       "359391           0.016978       1   20               11284  \n",
       "\n",
       "[359392 rows x 18 columns]"
      ]
     },
     "execution_count": 18,
     "metadata": {},
     "output_type": "execute_result"
    }
   ],
   "source": [
    "# First, left join on 'Cities' and 'Cab-Data'\n",
    "master_one = cab_data.merge(cities, left_on = 'City', right_on = 'City', how = 'left')\n",
    "\n",
    "# Second, left join on 'Transactions' and 'Customers'\n",
    "master_two = transactions.merge(customers, left_on = 'Customer_ID', right_on = 'Customer_ID', how = 'left')\n",
    "\n",
    "# Third, left join these two datasets on 'Transaction_ID' to get final master set \n",
    "master = master_one.merge(master_two, left_on = 'Transaction_ID', right_on = 'Transaction_ID', how = 'left')\n",
    "\n",
    "master"
   ]
  },
  {
   "cell_type": "markdown",
   "metadata": {},
   "source": [
    "We now have our master dataset as seen above. Before we move on, let's organize the columns in a more intuitive way. Also, we will rename some of the columns to try and make them shorter and more descriptive. "
   ]
  },
  {
   "cell_type": "code",
   "execution_count": 19,
   "metadata": {},
   "outputs": [
    {
     "data": {
      "text/html": [
       "<div>\n",
       "<style scoped>\n",
       "    .dataframe tbody tr th:only-of-type {\n",
       "        vertical-align: middle;\n",
       "    }\n",
       "\n",
       "    .dataframe tbody tr th {\n",
       "        vertical-align: top;\n",
       "    }\n",
       "\n",
       "    .dataframe thead th {\n",
       "        text-align: right;\n",
       "    }\n",
       "</style>\n",
       "<table border=\"1\" class=\"dataframe\">\n",
       "  <thead>\n",
       "    <tr style=\"text-align: right;\">\n",
       "      <th></th>\n",
       "      <th>Transaction_ID</th>\n",
       "      <th>Company</th>\n",
       "      <th>Date</th>\n",
       "      <th>Customer_ID</th>\n",
       "      <th>Gender</th>\n",
       "      <th>Age</th>\n",
       "      <th>Distance(KM)</th>\n",
       "      <th>Profit</th>\n",
       "      <th>Revenue</th>\n",
       "      <th>Cost</th>\n",
       "      <th>Price_per_KM</th>\n",
       "      <th>Payment_Mode</th>\n",
       "      <th>Monthly_Income</th>\n",
       "      <th>Income_Percentage</th>\n",
       "      <th>City</th>\n",
       "      <th>City_Percentage</th>\n",
       "      <th>City_Users</th>\n",
       "      <th>City_Population</th>\n",
       "    </tr>\n",
       "  </thead>\n",
       "  <tbody>\n",
       "    <tr>\n",
       "      <th>0</th>\n",
       "      <td>10000011</td>\n",
       "      <td>Pink Cab</td>\n",
       "      <td>42377</td>\n",
       "      <td>29290</td>\n",
       "      <td>1</td>\n",
       "      <td>28</td>\n",
       "      <td>30.45</td>\n",
       "      <td>57.3150</td>\n",
       "      <td>370.95</td>\n",
       "      <td>313.6350</td>\n",
       "      <td>12.182266</td>\n",
       "      <td>Card</td>\n",
       "      <td>10813</td>\n",
       "      <td>0.034306</td>\n",
       "      <td>ATLANTA GA</td>\n",
       "      <td>0.030312</td>\n",
       "      <td>24701.0</td>\n",
       "      <td>814885.0</td>\n",
       "    </tr>\n",
       "    <tr>\n",
       "      <th>1</th>\n",
       "      <td>10000012</td>\n",
       "      <td>Pink Cab</td>\n",
       "      <td>42375</td>\n",
       "      <td>27703</td>\n",
       "      <td>1</td>\n",
       "      <td>27</td>\n",
       "      <td>28.62</td>\n",
       "      <td>23.6660</td>\n",
       "      <td>358.52</td>\n",
       "      <td>334.8540</td>\n",
       "      <td>12.526904</td>\n",
       "      <td>Card</td>\n",
       "      <td>9237</td>\n",
       "      <td>0.038813</td>\n",
       "      <td>ATLANTA GA</td>\n",
       "      <td>0.030312</td>\n",
       "      <td>24701.0</td>\n",
       "      <td>814885.0</td>\n",
       "    </tr>\n",
       "    <tr>\n",
       "      <th>2</th>\n",
       "      <td>10000013</td>\n",
       "      <td>Pink Cab</td>\n",
       "      <td>42371</td>\n",
       "      <td>28712</td>\n",
       "      <td>1</td>\n",
       "      <td>53</td>\n",
       "      <td>9.04</td>\n",
       "      <td>27.5680</td>\n",
       "      <td>125.20</td>\n",
       "      <td>97.6320</td>\n",
       "      <td>13.849558</td>\n",
       "      <td>Cash</td>\n",
       "      <td>11242</td>\n",
       "      <td>0.011137</td>\n",
       "      <td>ATLANTA GA</td>\n",
       "      <td>0.030312</td>\n",
       "      <td>24701.0</td>\n",
       "      <td>814885.0</td>\n",
       "    </tr>\n",
       "    <tr>\n",
       "      <th>3</th>\n",
       "      <td>10000014</td>\n",
       "      <td>Pink Cab</td>\n",
       "      <td>42376</td>\n",
       "      <td>28020</td>\n",
       "      <td>1</td>\n",
       "      <td>23</td>\n",
       "      <td>33.17</td>\n",
       "      <td>25.7980</td>\n",
       "      <td>377.40</td>\n",
       "      <td>351.6020</td>\n",
       "      <td>11.377751</td>\n",
       "      <td>Cash</td>\n",
       "      <td>23327</td>\n",
       "      <td>0.016179</td>\n",
       "      <td>ATLANTA GA</td>\n",
       "      <td>0.030312</td>\n",
       "      <td>24701.0</td>\n",
       "      <td>814885.0</td>\n",
       "    </tr>\n",
       "    <tr>\n",
       "      <th>4</th>\n",
       "      <td>10000015</td>\n",
       "      <td>Pink Cab</td>\n",
       "      <td>42372</td>\n",
       "      <td>27182</td>\n",
       "      <td>1</td>\n",
       "      <td>33</td>\n",
       "      <td>8.73</td>\n",
       "      <td>16.8440</td>\n",
       "      <td>114.62</td>\n",
       "      <td>97.7760</td>\n",
       "      <td>13.129439</td>\n",
       "      <td>Card</td>\n",
       "      <td>8536</td>\n",
       "      <td>0.013428</td>\n",
       "      <td>ATLANTA GA</td>\n",
       "      <td>0.030312</td>\n",
       "      <td>24701.0</td>\n",
       "      <td>814885.0</td>\n",
       "    </tr>\n",
       "    <tr>\n",
       "      <th>...</th>\n",
       "      <td>...</td>\n",
       "      <td>...</td>\n",
       "      <td>...</td>\n",
       "      <td>...</td>\n",
       "      <td>...</td>\n",
       "      <td>...</td>\n",
       "      <td>...</td>\n",
       "      <td>...</td>\n",
       "      <td>...</td>\n",
       "      <td>...</td>\n",
       "      <td>...</td>\n",
       "      <td>...</td>\n",
       "      <td>...</td>\n",
       "      <td>...</td>\n",
       "      <td>...</td>\n",
       "      <td>...</td>\n",
       "      <td>...</td>\n",
       "      <td>...</td>\n",
       "    </tr>\n",
       "    <tr>\n",
       "      <th>359387</th>\n",
       "      <td>10440101</td>\n",
       "      <td>Yellow Cab</td>\n",
       "      <td>43108</td>\n",
       "      <td>52392</td>\n",
       "      <td>1</td>\n",
       "      <td>24</td>\n",
       "      <td>4.80</td>\n",
       "      <td>5.8800</td>\n",
       "      <td>69.24</td>\n",
       "      <td>63.3600</td>\n",
       "      <td>14.425000</td>\n",
       "      <td>Cash</td>\n",
       "      <td>15651</td>\n",
       "      <td>0.004424</td>\n",
       "      <td>WASHINGTON DC</td>\n",
       "      <td>0.303207</td>\n",
       "      <td>127001.0</td>\n",
       "      <td>418859.0</td>\n",
       "    </tr>\n",
       "    <tr>\n",
       "      <th>359388</th>\n",
       "      <td>10440104</td>\n",
       "      <td>Yellow Cab</td>\n",
       "      <td>43104</td>\n",
       "      <td>53286</td>\n",
       "      <td>1</td>\n",
       "      <td>32</td>\n",
       "      <td>8.40</td>\n",
       "      <td>6.9020</td>\n",
       "      <td>113.75</td>\n",
       "      <td>106.8480</td>\n",
       "      <td>13.541667</td>\n",
       "      <td>Cash</td>\n",
       "      <td>6528</td>\n",
       "      <td>0.017425</td>\n",
       "      <td>WASHINGTON DC</td>\n",
       "      <td>0.303207</td>\n",
       "      <td>127001.0</td>\n",
       "      <td>418859.0</td>\n",
       "    </tr>\n",
       "    <tr>\n",
       "      <th>359389</th>\n",
       "      <td>10440105</td>\n",
       "      <td>Yellow Cab</td>\n",
       "      <td>43105</td>\n",
       "      <td>52265</td>\n",
       "      <td>1</td>\n",
       "      <td>56</td>\n",
       "      <td>27.75</td>\n",
       "      <td>87.4200</td>\n",
       "      <td>437.07</td>\n",
       "      <td>349.6500</td>\n",
       "      <td>15.750270</td>\n",
       "      <td>Cash</td>\n",
       "      <td>7966</td>\n",
       "      <td>0.054867</td>\n",
       "      <td>WASHINGTON DC</td>\n",
       "      <td>0.303207</td>\n",
       "      <td>127001.0</td>\n",
       "      <td>418859.0</td>\n",
       "    </tr>\n",
       "    <tr>\n",
       "      <th>359390</th>\n",
       "      <td>10440106</td>\n",
       "      <td>Yellow Cab</td>\n",
       "      <td>43105</td>\n",
       "      <td>52175</td>\n",
       "      <td>1</td>\n",
       "      <td>32</td>\n",
       "      <td>8.80</td>\n",
       "      <td>32.1420</td>\n",
       "      <td>146.19</td>\n",
       "      <td>114.0480</td>\n",
       "      <td>16.612500</td>\n",
       "      <td>Card</td>\n",
       "      <td>6423</td>\n",
       "      <td>0.022760</td>\n",
       "      <td>WASHINGTON DC</td>\n",
       "      <td>0.303207</td>\n",
       "      <td>127001.0</td>\n",
       "      <td>418859.0</td>\n",
       "    </tr>\n",
       "    <tr>\n",
       "      <th>359391</th>\n",
       "      <td>10440107</td>\n",
       "      <td>Yellow Cab</td>\n",
       "      <td>43102</td>\n",
       "      <td>52917</td>\n",
       "      <td>1</td>\n",
       "      <td>20</td>\n",
       "      <td>12.76</td>\n",
       "      <td>13.9608</td>\n",
       "      <td>191.58</td>\n",
       "      <td>177.6192</td>\n",
       "      <td>15.014107</td>\n",
       "      <td>Card</td>\n",
       "      <td>11284</td>\n",
       "      <td>0.016978</td>\n",
       "      <td>WASHINGTON DC</td>\n",
       "      <td>0.303207</td>\n",
       "      <td>127001.0</td>\n",
       "      <td>418859.0</td>\n",
       "    </tr>\n",
       "  </tbody>\n",
       "</table>\n",
       "<p>359392 rows × 18 columns</p>\n",
       "</div>"
      ],
      "text/plain": [
       "        Transaction_ID     Company   Date  Customer_ID  Gender  Age  \\\n",
       "0             10000011    Pink Cab  42377        29290       1   28   \n",
       "1             10000012    Pink Cab  42375        27703       1   27   \n",
       "2             10000013    Pink Cab  42371        28712       1   53   \n",
       "3             10000014    Pink Cab  42376        28020       1   23   \n",
       "4             10000015    Pink Cab  42372        27182       1   33   \n",
       "...                ...         ...    ...          ...     ...  ...   \n",
       "359387        10440101  Yellow Cab  43108        52392       1   24   \n",
       "359388        10440104  Yellow Cab  43104        53286       1   32   \n",
       "359389        10440105  Yellow Cab  43105        52265       1   56   \n",
       "359390        10440106  Yellow Cab  43105        52175       1   32   \n",
       "359391        10440107  Yellow Cab  43102        52917       1   20   \n",
       "\n",
       "        Distance(KM)   Profit  Revenue      Cost  Price_per_KM Payment_Mode  \\\n",
       "0              30.45  57.3150   370.95  313.6350     12.182266         Card   \n",
       "1              28.62  23.6660   358.52  334.8540     12.526904         Card   \n",
       "2               9.04  27.5680   125.20   97.6320     13.849558         Cash   \n",
       "3              33.17  25.7980   377.40  351.6020     11.377751         Cash   \n",
       "4               8.73  16.8440   114.62   97.7760     13.129439         Card   \n",
       "...              ...      ...      ...       ...           ...          ...   \n",
       "359387          4.80   5.8800    69.24   63.3600     14.425000         Cash   \n",
       "359388          8.40   6.9020   113.75  106.8480     13.541667         Cash   \n",
       "359389         27.75  87.4200   437.07  349.6500     15.750270         Cash   \n",
       "359390          8.80  32.1420   146.19  114.0480     16.612500         Card   \n",
       "359391         12.76  13.9608   191.58  177.6192     15.014107         Card   \n",
       "\n",
       "        Monthly_Income  Income_Percentage           City  City_Percentage  \\\n",
       "0                10813           0.034306     ATLANTA GA         0.030312   \n",
       "1                 9237           0.038813     ATLANTA GA         0.030312   \n",
       "2                11242           0.011137     ATLANTA GA         0.030312   \n",
       "3                23327           0.016179     ATLANTA GA         0.030312   \n",
       "4                 8536           0.013428     ATLANTA GA         0.030312   \n",
       "...                ...                ...            ...              ...   \n",
       "359387           15651           0.004424  WASHINGTON DC         0.303207   \n",
       "359388            6528           0.017425  WASHINGTON DC         0.303207   \n",
       "359389            7966           0.054867  WASHINGTON DC         0.303207   \n",
       "359390            6423           0.022760  WASHINGTON DC         0.303207   \n",
       "359391           11284           0.016978  WASHINGTON DC         0.303207   \n",
       "\n",
       "        City_Users  City_Population  \n",
       "0          24701.0         814885.0  \n",
       "1          24701.0         814885.0  \n",
       "2          24701.0         814885.0  \n",
       "3          24701.0         814885.0  \n",
       "4          24701.0         814885.0  \n",
       "...            ...              ...  \n",
       "359387    127001.0         418859.0  \n",
       "359388    127001.0         418859.0  \n",
       "359389    127001.0         418859.0  \n",
       "359390    127001.0         418859.0  \n",
       "359391    127001.0         418859.0  \n",
       "\n",
       "[359392 rows x 18 columns]"
      ]
     },
     "execution_count": 19,
     "metadata": {},
     "output_type": "execute_result"
    }
   ],
   "source": [
    "# Reorganizing columns \n",
    "master = master[['Transaction_ID', 'Company', 'Date_of_Travel', 'Customer_ID', 'Gender', 'Age', 'KM_Travelled', 'Profit', 'Price_Charged', 'Cost_of_Trip', 'Price_per_KM', 'Payment_Mode', 'Income_(USD/Month)', 'Percent_of_Income', 'City', 'City_Per', 'Users', 'Population']]\n",
    "\n",
    "# Rename columns \n",
    "master.rename(columns = {'Date_of_Travel':'Date', 'KM_Travelled':'Distance(KM)', 'Price_Charged':'Revenue', 'Cost_of_Trip':'Cost', 'Income_(USD/Month)': 'Monthly_Income', 'Percent_of_Income': 'Income_Percentage',  'City_Per':'City_Percentage', 'Users':'City_Users', 'Population': 'City_Population'}, inplace = True)\n",
    "master"
   ]
  },
  {
   "cell_type": "markdown",
   "metadata": {},
   "source": [
    "# Cleaning our Data\n",
    "Now that our data is in the form that we desire. It is important that we clean it before we use it for advanced analysis. "
   ]
  },
  {
   "cell_type": "code",
   "execution_count": 20,
   "metadata": {},
   "outputs": [
    {
     "data": {
      "text/plain": [
       "Transaction_ID       False\n",
       "Company              False\n",
       "Date                 False\n",
       "Customer_ID          False\n",
       "Gender               False\n",
       "Age                  False\n",
       "Distance(KM)         False\n",
       "Profit               False\n",
       "Revenue              False\n",
       "Cost                 False\n",
       "Price_per_KM         False\n",
       "Payment_Mode         False\n",
       "Monthly_Income       False\n",
       "Income_Percentage    False\n",
       "City                 False\n",
       "City_Percentage      False\n",
       "City_Users           False\n",
       "City_Population      False\n",
       "dtype: bool"
      ]
     },
     "execution_count": 20,
     "metadata": {},
     "output_type": "execute_result"
    }
   ],
   "source": [
    "# Lets take a look at how many null values each column has. \n",
    "master.isnull().any()"
   ]
  },
  {
   "cell_type": "markdown",
   "metadata": {},
   "source": [
    "From the surface, no values are missing in our dataset. However, there still may be things like duplicates and outliers that need to be removed. "
   ]
  },
  {
   "cell_type": "code",
   "execution_count": 21,
   "metadata": {},
   "outputs": [
    {
     "name": "stdout",
     "output_type": "stream",
     "text": [
      "<class 'pandas.core.frame.DataFrame'>\n",
      "Int64Index: 359392 entries, 0 to 359391\n",
      "Data columns (total 18 columns):\n",
      " #   Column             Non-Null Count   Dtype  \n",
      "---  ------             --------------   -----  \n",
      " 0   Transaction_ID     359392 non-null  int64  \n",
      " 1   Company            359392 non-null  object \n",
      " 2   Date               359392 non-null  int64  \n",
      " 3   Customer_ID        359392 non-null  int64  \n",
      " 4   Gender             359392 non-null  int64  \n",
      " 5   Age                359392 non-null  int64  \n",
      " 6   Distance(KM)       359392 non-null  float64\n",
      " 7   Profit             359392 non-null  float64\n",
      " 8   Revenue            359392 non-null  float64\n",
      " 9   Cost               359392 non-null  float64\n",
      " 10  Price_per_KM       359392 non-null  float64\n",
      " 11  Payment_Mode       359392 non-null  object \n",
      " 12  Monthly_Income     359392 non-null  int64  \n",
      " 13  Income_Percentage  359392 non-null  float64\n",
      " 14  City               359392 non-null  object \n",
      " 15  City_Percentage    359392 non-null  float64\n",
      " 16  City_Users         359392 non-null  float64\n",
      " 17  City_Population    359392 non-null  float64\n",
      "dtypes: float64(9), int64(6), object(3)\n",
      "memory usage: 52.1+ MB\n"
     ]
    },
    {
     "data": {
      "text/html": [
       "<div>\n",
       "<style scoped>\n",
       "    .dataframe tbody tr th:only-of-type {\n",
       "        vertical-align: middle;\n",
       "    }\n",
       "\n",
       "    .dataframe tbody tr th {\n",
       "        vertical-align: top;\n",
       "    }\n",
       "\n",
       "    .dataframe thead th {\n",
       "        text-align: right;\n",
       "    }\n",
       "</style>\n",
       "<table border=\"1\" class=\"dataframe\">\n",
       "  <thead>\n",
       "    <tr style=\"text-align: right;\">\n",
       "      <th></th>\n",
       "      <th>Transaction_ID</th>\n",
       "      <th>Date</th>\n",
       "      <th>Customer_ID</th>\n",
       "      <th>Gender</th>\n",
       "      <th>Age</th>\n",
       "      <th>Distance(KM)</th>\n",
       "      <th>Profit</th>\n",
       "      <th>Revenue</th>\n",
       "      <th>Cost</th>\n",
       "      <th>Price_per_KM</th>\n",
       "      <th>Monthly_Income</th>\n",
       "      <th>Income_Percentage</th>\n",
       "      <th>City_Percentage</th>\n",
       "      <th>City_Users</th>\n",
       "      <th>City_Population</th>\n",
       "    </tr>\n",
       "  </thead>\n",
       "  <tbody>\n",
       "    <tr>\n",
       "      <th>count</th>\n",
       "      <td>3.593920e+05</td>\n",
       "      <td>359392.000000</td>\n",
       "      <td>359392.000000</td>\n",
       "      <td>359392.000000</td>\n",
       "      <td>359392.000000</td>\n",
       "      <td>359392.000000</td>\n",
       "      <td>359392.000000</td>\n",
       "      <td>359392.000000</td>\n",
       "      <td>359392.000000</td>\n",
       "      <td>359392.000000</td>\n",
       "      <td>359392.000000</td>\n",
       "      <td>359392.000000</td>\n",
       "      <td>359392.000000</td>\n",
       "      <td>359392.000000</td>\n",
       "      <td>3.593920e+05</td>\n",
       "    </tr>\n",
       "    <tr>\n",
       "      <th>mean</th>\n",
       "      <td>1.022076e+07</td>\n",
       "      <td>42964.067998</td>\n",
       "      <td>19191.652115</td>\n",
       "      <td>0.572945</td>\n",
       "      <td>35.336705</td>\n",
       "      <td>22.567254</td>\n",
       "      <td>137.253198</td>\n",
       "      <td>423.443311</td>\n",
       "      <td>286.190113</td>\n",
       "      <td>18.765127</td>\n",
       "      <td>15048.822937</td>\n",
       "      <td>0.043365</td>\n",
       "      <td>0.106687</td>\n",
       "      <td>158365.582267</td>\n",
       "      <td>3.132198e+06</td>\n",
       "    </tr>\n",
       "    <tr>\n",
       "      <th>std</th>\n",
       "      <td>1.268058e+05</td>\n",
       "      <td>307.467197</td>\n",
       "      <td>21012.412463</td>\n",
       "      <td>0.494651</td>\n",
       "      <td>12.594234</td>\n",
       "      <td>12.233526</td>\n",
       "      <td>160.311840</td>\n",
       "      <td>274.378911</td>\n",
       "      <td>157.993661</td>\n",
       "      <td>5.878560</td>\n",
       "      <td>7969.409482</td>\n",
       "      <td>0.052294</td>\n",
       "      <td>0.106331</td>\n",
       "      <td>100850.051020</td>\n",
       "      <td>3.315194e+06</td>\n",
       "    </tr>\n",
       "    <tr>\n",
       "      <th>min</th>\n",
       "      <td>1.000001e+07</td>\n",
       "      <td>42371.000000</td>\n",
       "      <td>1.000000</td>\n",
       "      <td>0.000000</td>\n",
       "      <td>18.000000</td>\n",
       "      <td>1.900000</td>\n",
       "      <td>-220.060000</td>\n",
       "      <td>15.600000</td>\n",
       "      <td>19.000000</td>\n",
       "      <td>6.338621</td>\n",
       "      <td>2000.000000</td>\n",
       "      <td>0.000476</td>\n",
       "      <td>0.006497</td>\n",
       "      <td>3643.000000</td>\n",
       "      <td>2.489680e+05</td>\n",
       "    </tr>\n",
       "    <tr>\n",
       "      <th>25%</th>\n",
       "      <td>1.011081e+07</td>\n",
       "      <td>42697.000000</td>\n",
       "      <td>2705.000000</td>\n",
       "      <td>0.000000</td>\n",
       "      <td>25.000000</td>\n",
       "      <td>12.000000</td>\n",
       "      <td>28.012000</td>\n",
       "      <td>206.437500</td>\n",
       "      <td>151.200000</td>\n",
       "      <td>14.451327</td>\n",
       "      <td>8424.000000</td>\n",
       "      <td>0.013753</td>\n",
       "      <td>0.035945</td>\n",
       "      <td>80021.000000</td>\n",
       "      <td>6.712380e+05</td>\n",
       "    </tr>\n",
       "    <tr>\n",
       "      <th>50%</th>\n",
       "      <td>1.022104e+07</td>\n",
       "      <td>42988.000000</td>\n",
       "      <td>7459.000000</td>\n",
       "      <td>1.000000</td>\n",
       "      <td>33.000000</td>\n",
       "      <td>22.440000</td>\n",
       "      <td>81.962000</td>\n",
       "      <td>386.360000</td>\n",
       "      <td>282.480000</td>\n",
       "      <td>17.153501</td>\n",
       "      <td>14685.000000</td>\n",
       "      <td>0.026913</td>\n",
       "      <td>0.072964</td>\n",
       "      <td>144132.000000</td>\n",
       "      <td>1.595037e+06</td>\n",
       "    </tr>\n",
       "    <tr>\n",
       "      <th>75%</th>\n",
       "      <td>1.033094e+07</td>\n",
       "      <td>43232.000000</td>\n",
       "      <td>36078.000000</td>\n",
       "      <td>1.000000</td>\n",
       "      <td>42.000000</td>\n",
       "      <td>32.960000</td>\n",
       "      <td>190.030000</td>\n",
       "      <td>583.660000</td>\n",
       "      <td>413.683200</td>\n",
       "      <td>22.234926</td>\n",
       "      <td>21035.000000</td>\n",
       "      <td>0.051020</td>\n",
       "      <td>0.090363</td>\n",
       "      <td>302149.000000</td>\n",
       "      <td>8.405837e+06</td>\n",
       "    </tr>\n",
       "    <tr>\n",
       "      <th>max</th>\n",
       "      <td>1.044011e+07</td>\n",
       "      <td>43465.000000</td>\n",
       "      <td>60000.000000</td>\n",
       "      <td>1.000000</td>\n",
       "      <td>65.000000</td>\n",
       "      <td>48.000000</td>\n",
       "      <td>1463.966000</td>\n",
       "      <td>2048.030000</td>\n",
       "      <td>691.200000</td>\n",
       "      <td>53.955556</td>\n",
       "      <td>35000.000000</td>\n",
       "      <td>0.857338</td>\n",
       "      <td>0.321411</td>\n",
       "      <td>302149.000000</td>\n",
       "      <td>8.405837e+06</td>\n",
       "    </tr>\n",
       "  </tbody>\n",
       "</table>\n",
       "</div>"
      ],
      "text/plain": [
       "       Transaction_ID           Date    Customer_ID         Gender  \\\n",
       "count    3.593920e+05  359392.000000  359392.000000  359392.000000   \n",
       "mean     1.022076e+07   42964.067998   19191.652115       0.572945   \n",
       "std      1.268058e+05     307.467197   21012.412463       0.494651   \n",
       "min      1.000001e+07   42371.000000       1.000000       0.000000   \n",
       "25%      1.011081e+07   42697.000000    2705.000000       0.000000   \n",
       "50%      1.022104e+07   42988.000000    7459.000000       1.000000   \n",
       "75%      1.033094e+07   43232.000000   36078.000000       1.000000   \n",
       "max      1.044011e+07   43465.000000   60000.000000       1.000000   \n",
       "\n",
       "                 Age   Distance(KM)         Profit        Revenue  \\\n",
       "count  359392.000000  359392.000000  359392.000000  359392.000000   \n",
       "mean       35.336705      22.567254     137.253198     423.443311   \n",
       "std        12.594234      12.233526     160.311840     274.378911   \n",
       "min        18.000000       1.900000    -220.060000      15.600000   \n",
       "25%        25.000000      12.000000      28.012000     206.437500   \n",
       "50%        33.000000      22.440000      81.962000     386.360000   \n",
       "75%        42.000000      32.960000     190.030000     583.660000   \n",
       "max        65.000000      48.000000    1463.966000    2048.030000   \n",
       "\n",
       "                Cost   Price_per_KM  Monthly_Income  Income_Percentage  \\\n",
       "count  359392.000000  359392.000000   359392.000000      359392.000000   \n",
       "mean      286.190113      18.765127    15048.822937           0.043365   \n",
       "std       157.993661       5.878560     7969.409482           0.052294   \n",
       "min        19.000000       6.338621     2000.000000           0.000476   \n",
       "25%       151.200000      14.451327     8424.000000           0.013753   \n",
       "50%       282.480000      17.153501    14685.000000           0.026913   \n",
       "75%       413.683200      22.234926    21035.000000           0.051020   \n",
       "max       691.200000      53.955556    35000.000000           0.857338   \n",
       "\n",
       "       City_Percentage     City_Users  City_Population  \n",
       "count    359392.000000  359392.000000     3.593920e+05  \n",
       "mean          0.106687  158365.582267     3.132198e+06  \n",
       "std           0.106331  100850.051020     3.315194e+06  \n",
       "min           0.006497    3643.000000     2.489680e+05  \n",
       "25%           0.035945   80021.000000     6.712380e+05  \n",
       "50%           0.072964  144132.000000     1.595037e+06  \n",
       "75%           0.090363  302149.000000     8.405837e+06  \n",
       "max           0.321411  302149.000000     8.405837e+06  "
      ]
     },
     "execution_count": 21,
     "metadata": {},
     "output_type": "execute_result"
    }
   ],
   "source": [
    "# Lets look at the descriptive stats and info in order to analyze potential outliers. \n",
    "master.info()\n",
    "master.describe()"
   ]
  },
  {
   "cell_type": "markdown",
   "metadata": {},
   "source": [
    "Based on the stats, features that raise red flags in terms of potential outliers include: Profit, Revenue, Price per KM, and Income Percentage. Let's start by excluding values that have an absolute z-score of greater than 3. "
   ]
  },
  {
   "cell_type": "code",
   "execution_count": 22,
   "metadata": {},
   "outputs": [],
   "source": [
    "# We need to save the rows that contain outliers. \n",
    "# Note: We cannot remove them until we save rows for all 4 columns since doing this will \n",
    "# change the means and therefore z-scores. \n",
    "profit_rows = master[(np.abs(stats.zscore(master['Profit'])) > 3)]\n",
    "revenue_rows = master[(np.abs(stats.zscore(master['Revenue'])) > 3)]\n",
    "price_per_rows = master[(np.abs(stats.zscore(master['Price_per_KM'])) > 3)]\n",
    "income_per_rows = master[(np.abs(stats.zscore(master['Income_Percentage'])) > 3)]"
   ]
  },
  {
   "cell_type": "markdown",
   "metadata": {},
   "source": [
    "We now have found the rows that contain values with z-scores greater than 3 for the 4 columns we are cleaning. Note: It is important we calculate all of these before removing any rows because doing so will change the averages and SD's. Next, let's create a list of all indexes that contain outliers so we can easily remove them from the master dataset. "
   ]
  },
  {
   "cell_type": "code",
   "execution_count": 23,
   "metadata": {},
   "outputs": [],
   "source": [
    "# get indexes for each column with outliers\n",
    "profit_indexes = list(profit_rows.index.values)\n",
    "revenue_indexes = list(revenue_rows.index.values)\n",
    "price_per_indexes = list(price_per_rows.index.values)\n",
    "income_per_indexes = list(income_per_rows.index.values)\n",
    "# combine into one set of unique values\n",
    "outlier_rows = set(profit_indexes + revenue_indexes + price_per_indexes + income_per_indexes)"
   ]
  },
  {
   "cell_type": "code",
   "execution_count": 24,
   "metadata": {},
   "outputs": [],
   "source": [
    "# convert set to list and drop from master \n",
    "master.drop(list(outlier_rows), axis = 0, inplace = True)"
   ]
  },
  {
   "cell_type": "markdown",
   "metadata": {},
   "source": [
    "Next, let's look for potential duplicate rows. Just because the Transaction ID is unique, doesn't mean a duplicate wasn't added with a different ID. In this case, it's fair to say that if two rows have the same Customer ID, Date, Distance, Cost, and Revenue, then they are duplicates where one should be removed. "
   ]
  },
  {
   "cell_type": "code",
   "execution_count": 25,
   "metadata": {},
   "outputs": [],
   "source": [
    "duplicates = master.duplicated(subset = ['Customer_ID', 'Date','Distance(KM)', 'Cost', 'Revenue'])"
   ]
  },
  {
   "cell_type": "code",
   "execution_count": 26,
   "metadata": {},
   "outputs": [
    {
     "name": "stdout",
     "output_type": "stream",
     "text": [
      "0\n"
     ]
    }
   ],
   "source": [
    "trues = sum(duplicates)\n",
    "print(trues)"
   ]
  },
  {
   "cell_type": "code",
   "execution_count": 27,
   "metadata": {},
   "outputs": [],
   "source": [
    "check_again = master.duplicated(subset = ['Customer_ID', 'Date','Distance(KM)'])"
   ]
  },
  {
   "cell_type": "code",
   "execution_count": 28,
   "metadata": {},
   "outputs": [
    {
     "name": "stdout",
     "output_type": "stream",
     "text": [
      "5\n"
     ]
    }
   ],
   "source": [
    "trues = sum(check_again)\n",
    "print(trues)"
   ]
  },
  {
   "cell_type": "markdown",
   "metadata": {},
   "source": [
    "At first, the above number was a bit concerning, however, it is very plausible that over the course of two years, the same customer took two different trips on the same day with the same distance. For example, a customer could be taking a taxi to work and again from work later that day. In this case the distance would hypothetically be the same so we can leave these 5 entries. "
   ]
  },
  {
   "cell_type": "markdown",
   "metadata": {},
   "source": [
    "Our data is now clean and ready to be analyzed. "
   ]
  },
  {
   "cell_type": "markdown",
   "metadata": {},
   "source": [
    "# Hypotheses on the Data\n",
    "Now it is time to generate several hypotheses on the data to further investigate it. "
   ]
  },
  {
   "cell_type": "markdown",
   "metadata": {},
   "source": [
    "Hypothesis #1: There is a positive, strong relationship between monthly customers and profit per trip. * WANT TO CHANGE? "
   ]
  },
  {
   "cell_type": "markdown",
   "metadata": {},
   "source": [
    "Hypothesis #2: The company that makes more profit will have more \"repeat trips\" (Will define \"repeat trips\" as a client who books a trip with the same company within a week of their last trip)"
   ]
  },
  {
   "cell_type": "markdown",
   "metadata": {},
   "source": [
    "Hypothesis #3: Higher income clients will likely book more trips that are more expensive per KM than lower income clients. "
   ]
  },
  {
   "cell_type": "markdown",
   "metadata": {},
   "source": [
    "Hypothesis #4: Shorter trips will generate more profit per KM than longer trips. "
   ]
  },
  {
   "cell_type": "markdown",
   "metadata": {},
   "source": [
    "Hypothesis #5: Cities with higher populations will generate trips with more profit. (Cities with more people = increased demand = higher profit)"
   ]
  },
  {
   "cell_type": "markdown",
   "metadata": {},
   "source": [
    "# Hypothesis 1: "
   ]
  },
  {
   "cell_type": "markdown",
   "metadata": {},
   "source": [
    "In order to analyze this hypothesis, we first should look at each company and their number of monthly customers. "
   ]
  },
  {
   "cell_type": "code",
   "execution_count": 29,
   "metadata": {},
   "outputs": [],
   "source": [
    "# Let's create a dataset that contains each company and their respective number of clients each month. \n",
    "# For simplicity, we will define a month as 30 days \n",
    "# Since the time period we are looking at is 3 years there will be 36 months \n",
    "p_monthly_nums = []\n",
    "y_monthly_nums = []\n",
    "curr_date = 42371\n",
    "for i in range(1,37): \n",
    "    p_customers = 0\n",
    "    y_customers = 0\n",
    "    for i in range(1,31): \n",
    "        p_customers += len(master.loc[(master['Date'] == curr_date) & (master['Company'] == 'Pink Cab')])\n",
    "        y_customers += len(master.loc[(master['Date'] == curr_date) & (master['Company'] == 'Yellow Cab')])\n",
    "        curr_date += 1\n",
    "    p_monthly_nums.append(p_customers)\n",
    "    y_monthly_nums.append(y_customers)"
   ]
  },
  {
   "cell_type": "code",
   "execution_count": 30,
   "metadata": {},
   "outputs": [
    {
     "data": {
      "text/plain": [
       "Text(0.5, 1.0, 'Cab Companies Monthly Customers')"
      ]
     },
     "execution_count": 30,
     "metadata": {},
     "output_type": "execute_result"
    },
    {
     "data": {
      "image/png": "[encoded data removed]",
      "text/plain": [
       "<Figure size 432x288 with 1 Axes>"
      ]
     },
     "metadata": {
      "needs_background": "light"
     },
     "output_type": "display_data"
    }
   ],
   "source": [
    "# Now lets plot the results\n",
    "plt.plot(y_monthly_nums, label = 'Yellow Cab')\n",
    "plt.plot(p_monthly_nums, label = 'Pink Cab')\n",
    "plt.xlabel('Month')\n",
    "plt.ylabel('Number of Customers')\n",
    "plt.legend()\n",
    "plt.title('Cab Companies Monthly Customers')"
   ]
  },
  {
   "cell_type": "markdown",
   "metadata": {},
   "source": [
    "Clearly, we can see that the Yellow Cab Company generates more clients per month. However, it is also important to look at how much profit each company is making per client. "
   ]
  },
  {
   "cell_type": "code",
   "execution_count": 31,
   "metadata": {},
   "outputs": [],
   "source": [
    "y_avg_profit = np.average(master.loc[master['Company'] == 'Yellow Cab', 'Profit'])\n",
    "p_avg_profit = np.average(master.loc[master['Company'] == 'Pink Cab', 'Profit'])"
   ]
  },
  {
   "cell_type": "code",
   "execution_count": 32,
   "metadata": {},
   "outputs": [
    {
     "data": {
      "text/plain": [
       "(139.28094769202323, 61.39540224481051)"
      ]
     },
     "execution_count": 32,
     "metadata": {},
     "output_type": "execute_result"
    }
   ],
   "source": [
    "y_avg_profit, p_avg_profit"
   ]
  },
  {
   "cell_type": "markdown",
   "metadata": {},
   "source": [
    "We can now see that our hypothesis is confirmed. Yellow Cab, the company that brings in more clients per month also makes significantly more money per trip. "
   ]
  },
  {
   "cell_type": "markdown",
   "metadata": {},
   "source": [
    "# Hypothesis #2"
   ]
  },
  {
   "cell_type": "markdown",
   "metadata": {},
   "source": [
    "In order to analyze this hypothesis, we will need to find the number of repeat customers for each customer"
   ]
  },
  {
   "cell_type": "code",
   "execution_count": 33,
   "metadata": {},
   "outputs": [],
   "source": [
    "y_data = master.loc[master['Company'] == 'Yellow Cab']\n",
    "p_data = master.loc[master['Company'] == 'Pink Cab']"
   ]
  },
  {
   "cell_type": "code",
   "execution_count": 51,
   "metadata": {},
   "outputs": [
    {
     "data": {
      "text/plain": [
       "27554"
      ]
     },
     "execution_count": 51,
     "metadata": {},
     "output_type": "execute_result"
    }
   ],
   "source": [
    "y_repeats = 0\n",
    "for cust in y_data.Customer_ID.unique(): \n",
    "    prev = 0\n",
    "    curr = 0\n",
    "    diff = 8\n",
    "    y_cust_data = y_data.loc[y_data['Customer_ID'] == cust]\n",
    "    for date in y_cust_data['Date']: \n",
    "        curr = date\n",
    "        diff = curr - prev\n",
    "        prev = curr\n",
    "        if diff < 8: \n",
    "            y_repeats += 1\n",
    "y_repeats "
   ]
  },
  {
   "cell_type": "code",
   "execution_count": 52,
   "metadata": {},
   "outputs": [
    {
     "data": {
      "text/plain": [
       "2684"
      ]
     },
     "execution_count": 52,
     "metadata": {},
     "output_type": "execute_result"
    }
   ],
   "source": [
    "p_repeats = 0\n",
    "for cust in p_data.Customer_ID.unique(): \n",
    "    prev = 0\n",
    "    curr = 0\n",
    "    diff = 8\n",
    "    p_cust_data = p_data.loc[p_data['Customer_ID'] == cust]\n",
    "    for date in p_cust_data['Date']: \n",
    "        curr = date\n",
    "        diff = curr - prev\n",
    "        prev = curr\n",
    "        if diff < 8: \n",
    "            p_repeats += 1\n",
    "p_repeats "
   ]
  },
  {
   "cell_type": "code",
   "execution_count": 56,
   "metadata": {},
   "outputs": [
    {
     "data": {
      "image/png": "[encoded data removed]",
      "text/plain": [
       "<Figure size 432x288 with 1 Axes>"
      ]
     },
     "metadata": {
      "needs_background": "light"
     },
     "output_type": "display_data"
    }
   ],
   "source": [
    "\n",
    "repeat_fig = plt.figure()\n",
    "ax = repeat_fig.add_axes([0,0,1,1])\n",
    "companies = ['Yellow Cab', 'Pink Cab']\n",
    "repeats = [y_repeats, p_repeats]\n",
    "ax.bar(companies, repeats)\n",
    "plt.title('Repeat Customers (Customers who re-book within 7 days)')\n",
    "plt.show()"
   ]
  },
  {
   "cell_type": "markdown",
   "metadata": {},
   "source": [
    "As seen above, Yellow Cab has many more repeat customers. This supports our hypothesis that the company with more repeat customers will make more profit. "
   ]
  },
  {
   "cell_type": "markdown",
   "metadata": {},
   "source": [
    "# Hypothesis #3: "
   ]
  },
  {
   "cell_type": "markdown",
   "metadata": {},
   "source": [
    "For this hypothesis, it will be useful to look at the correlation between income of client vs price per KM of the trip. Again, let's separate by Company and create tables to look at this relationship. "
   ]
  },
  {
   "cell_type": "code",
   "execution_count": 114,
   "metadata": {},
   "outputs": [
    {
     "name": "stdout",
     "output_type": "stream",
     "text": [
      "Yellow Cab Correlation: \n",
      "(0.029401916686824923, 9.470947066532831e-51)\n",
      "Pink Cab Correlation: \n",
      "(0.015084815236311128, 1.2277842617467292e-05)\n"
     ]
    },
    {
     "data": {
      "image/png": "[encoded data removed]",
      "text/plain": [
       "<Figure size 1332x756 with 2 Axes>"
      ]
     },
     "metadata": {
      "needs_background": "light"
     },
     "output_type": "display_data"
    }
   ],
   "source": [
    "# Set up side by side plots \n",
    "hyp3_fig, (y_plot, p_plot) = plt.subplots(1, 2, sharex = True, sharey = True)\n",
    "hyp3_fig.suptitle('Trip price per KM vs Customer Monthly Income')\n",
    "hyp3_fig.text(0.5, 0.02, 'Trip price per KM', ha='center')\n",
    "hyp3_fig.text(0, 0.5, 'Monthly Income', va='center', rotation='vertical')\n",
    "hyp3_fig.set_size_inches(18.5, 10.5)\n",
    "\n",
    "\n",
    "# Set up Yellow Cab Plot  \n",
    "y_hyp3_data = y_data[['Monthly_Income', 'Price_per_KM']]\n",
    "y_x = y_hyp3_data['Price_per_KM']\n",
    "y_y = y_hyp3_data['Monthly_Income']\n",
    "y_plot.plot(y_x, y_y, '.')\n",
    "y_plot.set_title('Yellow Cab')\n",
    "y_plot.axis([5, 40, 0, 40000])\n",
    "\n",
    "# Set up Pink Cab Plot \n",
    "p_hyp3_data = p_data[['Monthly_Income', 'Price_per_KM']]\n",
    "p_x = p_hyp3_data['Price_per_KM']\n",
    "p_y = p_hyp3_data['Monthly_Income']\n",
    "p_plot.plot(p_x, p_y, '.')\n",
    "p_plot.set_title('Pink Cab')\n",
    "p_plot.axis([5, 40, 0, 40000])\n",
    "\n",
    "# Print correlations \n",
    "print('Yellow Cab Correlation: ')\n",
    "print(stats.pearsonr(y_x, y_y))\n",
    "print('Pink Cab Correlation: ')\n",
    "print(stats.pearsonr(p_x, p_y))"
   ]
  },
  {
   "cell_type": "markdown",
   "metadata": {},
   "source": [
    "As seen above and through the correlations, there is no visible relationship between Trip Price per KM and Customer monthly income, so our hypothesis is proved wrong. These graphs still will provide valuable information to us when deciding which company to invest in. "
   ]
  },
  {
   "cell_type": "markdown",
   "metadata": {},
   "source": [
    "# Hypothesis 4: "
   ]
  },
  {
   "cell_type": "markdown",
   "metadata": {},
   "source": [
    "For this hypothesis, we will need to take a look at the amount of profit per KM along with the distance of the trips. "
   ]
  },
  {
   "cell_type": "code",
   "execution_count": 115,
   "metadata": {
    "scrolled": true
   },
   "outputs": [
    {
     "name": "stderr",
     "output_type": "stream",
     "text": [
      "<ipython-input-115-fe807398a946>:4: SettingWithCopyWarning: \n",
      "A value is trying to be set on a copy of a slice from a DataFrame.\n",
      "Try using .loc[row_indexer,col_indexer] = value instead\n",
      "\n",
      "See the caveats in the documentation: https://pandas.pydata.org/pandas-docs/stable/user_guide/indexing.html#returning-a-view-versus-a-copy\n",
      "  y_hyp4_data['Profit_per_KM'] = y_hyp4_data['Profit'] / y_hyp4_data['Distance(KM)']\n",
      "<ipython-input-115-fe807398a946>:8: SettingWithCopyWarning: \n",
      "A value is trying to be set on a copy of a slice from a DataFrame.\n",
      "Try using .loc[row_indexer,col_indexer] = value instead\n",
      "\n",
      "See the caveats in the documentation: https://pandas.pydata.org/pandas-docs/stable/user_guide/indexing.html#returning-a-view-versus-a-copy\n",
      "  p_hyp4_data['Profit_per_KM'] = p_hyp4_data['Profit'] / p_hyp4_data['Distance(KM)']\n"
     ]
    },
    {
     "name": "stdout",
     "output_type": "stream",
     "text": [
      "Yellow Cab Correlation: \n",
      "(-0.08038916049425572, 0.0)\n",
      "Pink Cab Correlation: \n",
      "(-0.005509839706952049, 0.1102559667918837)\n"
     ]
    },
    {
     "data": {
      "image/png": "[encoded data removed]",
      "text/plain": [
       "<Figure size 1332x756 with 2 Axes>"
      ]
     },
     "metadata": {
      "needs_background": "light"
     },
     "output_type": "display_data"
    }
   ],
   "source": [
    "# Create dataframes that we will be using \n",
    "# Yellow Cab\n",
    "y_hyp4_data = y_data[['Profit', 'Distance(KM)']]\n",
    "y_hyp4_data['Profit_per_KM'] = y_hyp4_data['Profit'] / y_hyp4_data['Distance(KM)']\n",
    "y_hyp4_data = y_hyp4_data[['Distance(KM)', 'Profit_per_KM']]\n",
    "# Pink Cab \n",
    "p_hyp4_data = p_data[['Profit', 'Distance(KM)']]\n",
    "p_hyp4_data['Profit_per_KM'] = p_hyp4_data['Profit'] / p_hyp4_data['Distance(KM)']\n",
    "p_hyp4_data = p_hyp4_data[['Distance(KM)', 'Profit_per_KM']]\n",
    "\n",
    "# Create side by side plots to show relationship between the two columns \n",
    "hyp4_fig, (y_plot, p_plot) = plt.subplots(1, 2, sharex = True, sharey = True)\n",
    "hyp4_fig.suptitle('Distance vs Profit per KM')\n",
    "hyp4_fig.text(0.5, 0.02, 'Distance(KM)', ha='center')\n",
    "hyp4_fig.text(0, 0.5, 'Price per KM', va='center', rotation='vertical')\n",
    "hyp4_fig.set_size_inches(18.5, 10.5)\n",
    "\n",
    "# Enter in data for Yellow Cab plot \n",
    "y_x = y_hyp4_data['Distance(KM)']\n",
    "y_y = y_hyp4_data['Profit_per_KM']\n",
    "y_plot.plot(y_x, y_y, '.')\n",
    "y_plot.set_title('Yellow Cab')\n",
    "y_plot.axis([0, 50, 0, 30])\n",
    "\n",
    "# Enter in data for Pink Cab plot \n",
    "p_x = p_hyp4_data['Distance(KM)']\n",
    "p_y = p_hyp4_data['Profit_per_KM']\n",
    "p_plot.plot(p_x, p_y, '.')\n",
    "p_plot.set_title('Pink Cab')\n",
    "p_plot.axis([0, 50, 0, 30])\n",
    "\n",
    "# Print correlations \n",
    "print('Yellow Cab Correlation: ')\n",
    "print(stats.pearsonr(y_x, y_y))\n",
    "print('Pink Cab Correlation: ')\n",
    "print(stats.pearsonr(p_x, p_y))"
   ]
  },
  {
   "cell_type": "markdown",
   "metadata": {},
   "source": [
    "The above graphs appear to show a very weak negative correlation between Distance and Price per KM. These graphs will help us in our decision because we can easily see which comapany has more higher profit trips. "
   ]
  },
  {
   "cell_type": "markdown",
   "metadata": {},
   "source": [
    "# Hypothesis #5: "
   ]
  },
  {
   "cell_type": "markdown",
   "metadata": {},
   "source": [
    "For this hypothesis, we will need to separate the data into cities. We then need to look at the profit per trip for each company. "
   ]
  },
  {
   "cell_type": "code",
   "execution_count": 161,
   "metadata": {},
   "outputs": [
    {
     "data": {
      "text/plain": [
       "(array(['ATLANTA GA', 'AUSTIN TX', 'BOSTON MA', 'CHICAGO IL', 'DALLAS TX',\n",
       "        'DENVER CO', 'LOS ANGELES CA', 'MIAMI FL', 'NEW YORK NY',\n",
       "        'ORANGE COUNTY', 'PHOENIX AZ', 'PITTSBURGH PA', 'SACRAMENTO CA',\n",
       "        'SAN DIEGO CA', 'SEATTLE WA', 'SILICON VALLEY', 'TUCSON AZ',\n",
       "        'WASHINGTON DC', 'NASHVILLE TN'], dtype=object),\n",
       " array(['ATLANTA GA', 'AUSTIN TX', 'BOSTON MA', 'CHICAGO IL', 'DALLAS TX',\n",
       "        'DENVER CO', 'LOS ANGELES CA', 'MIAMI FL', 'NASHVILLE TN',\n",
       "        'NEW YORK NY', 'ORANGE COUNTY', 'PHOENIX AZ', 'PITTSBURGH PA',\n",
       "        'SACRAMENTO CA', 'SAN DIEGO CA', 'SEATTLE WA', 'SILICON VALLEY',\n",
       "        'TUCSON AZ', 'WASHINGTON DC'], dtype=object))"
      ]
     },
     "execution_count": 161,
     "metadata": {},
     "output_type": "execute_result"
    }
   ],
   "source": [
    "# Let's look at the cities for each company. \n",
    "y_cities = y_data.City.unique()\n",
    "p_cities = p_data.City.unique()\n",
    "\n",
    "y_cities , p_cities"
   ]
  },
  {
   "cell_type": "markdown",
   "metadata": {},
   "source": [
    "We can see that both companies operate in the same 19 cities. "
   ]
  },
  {
   "cell_type": "code",
   "execution_count": 169,
   "metadata": {},
   "outputs": [],
   "source": [
    "# hashset to keep track of city populations \n",
    "cities_pops = {}\n",
    "for city in p_cities: \n",
    "    pop = list(p_data.loc[p_data['City'] == city, 'City_Population'])\n",
    "    city_pop = pop[0]\n",
    "    cities_pops[city] = city_pop"
   ]
  },
  {
   "cell_type": "code",
   "execution_count": 170,
   "metadata": {},
   "outputs": [],
   "source": [
    "# hashset to keep track of average profit per city \n",
    "p_cities_profs = {}\n",
    "for city in p_cities: \n",
    "    prof = np.average(list(p_data.loc[p_data['City'] == city, 'Profit']))\n",
    "    p_cities_profs[city] = prof\n",
    "\n",
    "y_cities_profs = {}\n",
    "for city in p_cities: \n",
    "    prof = np.average(list(y_data.loc[y_data['City'] == city, 'Profit']))\n",
    "    y_cities_profs[city] = prof"
   ]
  },
  {
   "cell_type": "code",
   "execution_count": 171,
   "metadata": {},
   "outputs": [],
   "source": [
    "labels = list(cities_pops.keys())\n",
    "pops = list(cities_pops.values())\n",
    "y_profs = []\n",
    "p_profs = []\n",
    "for city in labels: \n",
    "    y_profs.append(y_cities_profs[city])\n",
    "    p_profs.append(p_cities_profs[city])\n"
   ]
  },
  {
   "cell_type": "code",
   "execution_count": 186,
   "metadata": {},
   "outputs": [
    {
     "name": "stdout",
     "output_type": "stream",
     "text": [
      "(0.7128455350040384, 0.0006136112595179221)\n"
     ]
    },
    {
     "data": {
      "image/png": "[encoded data removed]",
      "text/plain": [
       "<Figure size 432x288 with 1 Axes>"
      ]
     },
     "metadata": {
      "needs_background": "light"
     },
     "output_type": "display_data"
    }
   ],
   "source": [
    "plt.scatter(pops, y_profs)\n",
    "plt.xlabel('Population(Millions)')\n",
    "plt.ylabel('Profit/Ride (USD)')\n",
    "plt.title('Yellow Cab City Population vs Profit')\n",
    "print(stats.pearsonr(pops, y_profs))"
   ]
  },
  {
   "cell_type": "code",
   "execution_count": 187,
   "metadata": {},
   "outputs": [
    {
     "name": "stdout",
     "output_type": "stream",
     "text": [
      "(0.5800051057539565, 0.009236722185031078)\n"
     ]
    },
    {
     "data": {
      "image/png": "[encoded data removed]",
      "text/plain": [
       "<Figure size 432x288 with 1 Axes>"
      ]
     },
     "metadata": {
      "needs_background": "light"
     },
     "output_type": "display_data"
    }
   ],
   "source": [
    "plt.scatter(pops, p_profs)\n",
    "plt.xlabel('Population(Millions)')\n",
    "plt.ylabel('Profit/Ride (USD)')\n",
    "plt.title('Pink Cab City Population vs Profit')\n",
    "print(stats.pearsonr(pops, p_profs))"
   ]
  },
  {
   "cell_type": "markdown",
   "metadata": {},
   "source": [
    "As we can see above, there appears to be a relatively strong positive correlation between a City's population and the profit per ride for both companies. Knowing this, we should try and create a metric that quantifies each the total users for each company weighted by the populations of the cities that the customers are in. We'll call this 'Big City Score' "
   ]
  },
  {
   "cell_type": "code",
   "execution_count": 206,
   "metadata": {},
   "outputs": [],
   "source": [
    "# Get users in each city for each company \n",
    "y_city_users = {}\n",
    "for city in y_cities: \n",
    "    trips = y_data.loc[y_data['City'] == city]\n",
    "    trips\n",
    "    users = len(trips.Customer_ID.unique())\n",
    "    y_city_users[city] = users\n",
    "    \n",
    "p_city_users = {}\n",
    "for city in p_cities: \n",
    "    trips = p_data.loc[p_data['City'] == city]\n",
    "    users = len(trips.Customer_ID.unique())\n",
    "    p_city_users[city] = users\n",
    "# Save total number of users for each company \n",
    "p_users = np.sum(list(p_city_users.values()))\n",
    "y_users = np.sum(list(y_city_users.values()))\n"
   ]
  },
  {
   "cell_type": "code",
   "execution_count": 207,
   "metadata": {},
   "outputs": [
    {
     "data": {
      "text/plain": [
       "(32186, 39477)"
      ]
     },
     "execution_count": 207,
     "metadata": {},
     "output_type": "execute_result"
    }
   ],
   "source": [
    "p_users, y_users"
   ]
  },
  {
   "cell_type": "markdown",
   "metadata": {},
   "source": [
    "Above we can now see the number of unique users that each company has in total. "
   ]
  },
  {
   "cell_type": "markdown",
   "metadata": {},
   "source": [
    "We will calculate 'Big City Score' in the following way: Take the number of users each company has in each city, divide it by that company's total users, and multiply it by the city's population. Do this for every city and sum the results to get the 'Big City Score' metric that we are looking for. "
   ]
  },
  {
   "cell_type": "code",
   "execution_count": 210,
   "metadata": {},
   "outputs": [
    {
     "data": {
      "text/plain": [
       "(31830.61022874079, 27302.745976511524)"
      ]
     },
     "execution_count": 210,
     "metadata": {},
     "output_type": "execute_result"
    }
   ],
   "source": [
    "y_BCS = 0\n",
    "p_BCS = 0\n",
    "for city in p_cities: \n",
    "    y = y_city_users[city] # users for yellow cab \n",
    "    p = p_city_users[city] # users for pink cab \n",
    "    y_per = y / y_users # yellow cab user pecent \n",
    "    p_per = p / p_users # pink cab user percent \n",
    "    y_score = y_per * cities_pops[city] # score for city \n",
    "    p_score = p_per * cities_pops[city] # score for city\n",
    "    y_BCS += y_score \n",
    "    p_BCS += p_score \n",
    "    \n",
    "y_score, p_score "
   ]
  },
  {
   "cell_type": "markdown",
   "metadata": {},
   "source": [
    "By our calculation, we can see that Yellow Cab has a Big City Score of ~32,000 and Pink Cab has a Big City Score of ~27,000. We would favor Yellow Cab here because according to our findings in the graphs above it's beneficial to have a larger portion of your clients in cities with larger populations. "
   ]
  },
  {
   "cell_type": "markdown",
   "metadata": {},
   "source": [
    "# Client Diversity"
   ]
  },
  {
   "cell_type": "markdown",
   "metadata": {},
   "source": [
    "In many industries, it is beneficial to have a very diverse clientele that comes from different ages, genders, social classes, etc. Because of this, we are going to analyze the diversity of the two companies in many of these areas.  "
   ]
  },
  {
   "cell_type": "markdown",
   "metadata": {},
   "source": [
    "First, let's look at gender. "
   ]
  },
  {
   "cell_type": "code",
   "execution_count": 217,
   "metadata": {},
   "outputs": [],
   "source": [
    "y_genders = []\n",
    "p_genders = []\n",
    "for cust in y_data.Customer_ID.unique():\n",
    "    y_genders.append(list(y_data.loc[y_data['Customer_ID'] == cust, 'Gender'])[0])\n",
    "y_male = 0\n",
    "y_female = 0\n",
    "for gen in y_genders: \n",
    "    if gen == 0: \n",
    "        y_female += 1\n",
    "    else: \n",
    "        y_male += 1\n",
    "for cust in p_data.Customer_ID.unique():\n",
    "    p_genders.append(list(p_data.loc[p_data['Customer_ID'] == cust, 'Gender'])[0])\n",
    "p_male = 0\n",
    "p_female = 0\n",
    "for gen in p_genders: \n",
    "    if gen == 0: \n",
    "        p_female += 1\n",
    "    else: \n",
    "        p_male += 1"
   ]
  },
  {
   "cell_type": "code",
   "execution_count": 267,
   "metadata": {},
   "outputs": [
    {
     "data": {
      "image/png": "[encoded data removed]",
      "text/plain": [
       "<Figure size 1332x756 with 2 Axes>"
      ]
     },
     "metadata": {
      "needs_background": "light"
     },
     "output_type": "display_data"
    }
   ],
   "source": [
    "gen_fig, (y_gen, p_gen) = plt.subplots(1, 2, sharey = True)\n",
    "gen_fig.suptitle('Gender Makeup for each Company')\n",
    "labels = ['Male', 'Female']\n",
    "p_gen.set_title('Pink Cab')\n",
    "y_gen.set_title('Yellow Cab')\n",
    "p_counts = [p_male, p_female]\n",
    "y_counts = [y_male, y_female]\n",
    "p_gen.bar(labels, p_counts)\n",
    "y_gen.bar(labels, y_counts)\n",
    "gen_fig.set_size_inches(18.5, 10.5)"
   ]
  },
  {
   "cell_type": "code",
   "execution_count": 225,
   "metadata": {},
   "outputs": [
    {
     "data": {
      "text/plain": [
       "(3069, 2694)"
      ]
     },
     "execution_count": 225,
     "metadata": {},
     "output_type": "execute_result"
    }
   ],
   "source": [
    "y_diff = y_male - y_female \n",
    "p_diff = p_male - p_female \n",
    "y_diff, p_diff"
   ]
  },
  {
   "cell_type": "markdown",
   "metadata": {},
   "source": [
    "As we can see, the Yellow Cab company is slightly more diverse when it comes to gender, but both companies have good gender diversity. "
   ]
  },
  {
   "cell_type": "markdown",
   "metadata": {},
   "source": [
    "Next, we will look at age diversity for each company. Let's define the following age groups: 18-27, 28-37, 38-47, 48-57, 58+ "
   ]
  },
  {
   "cell_type": "code",
   "execution_count": 250,
   "metadata": {},
   "outputs": [],
   "source": [
    "# Gather Yellow Cab age groups \n",
    "y_group1827 = y_data.loc[((y_data['Age'] >= 18) & (y_data['Age'] <= 27))]\n",
    "y_group2837 = y_data.loc[((y_data['Age'] >= 28) & (y_data['Age'] <= 37))]\n",
    "y_group3847 = y_data.loc[((y_data['Age'] >= 38) & (y_data['Age'] <= 47))]\n",
    "y_group4857 = y_data.loc[((y_data['Age'] >= 48) & (y_data['Age'] <= 57))]\n",
    "y_group58 = y_data.loc[y_data['Age'] >= 58]\n",
    "# Gather Pink Cab age groups \n",
    "p_group1827 = p_data.loc[((p_data['Age'] >= 18) & (p_data['Age'] <= 27))]\n",
    "p_group2837 = p_data.loc[((p_data['Age'] >= 28) & (p_data['Age'] <= 37))]\n",
    "p_group3847 = p_data.loc[((p_data['Age'] >= 38) & (p_data['Age'] <= 47))]\n",
    "p_group4857 = p_data.loc[((p_data['Age'] >= 48) & (p_data['Age'] <= 57))]\n",
    "p_group58 = p_data.loc[p_data['Age'] >= 58]"
   ]
  },
  {
   "cell_type": "code",
   "execution_count": 251,
   "metadata": {},
   "outputs": [],
   "source": [
    "# We're going to define a function to get number of unique customers in each age group \n",
    "def find_unique_cust(series): \n",
    "    customers = len(series.Customer_ID.unique())\n",
    "    return customers"
   ]
  },
  {
   "cell_type": "code",
   "execution_count": 254,
   "metadata": {},
   "outputs": [],
   "source": [
    "# Gather unique numbers for Yellow Cab \n",
    "y_group1827_num = find_unique_cust(y_group1827)\n",
    "y_group2837_num = find_unique_cust(y_group2837)\n",
    "y_group3847_num = find_unique_cust(y_group3847)\n",
    "y_group4857_num = find_unique_cust(y_group4857)\n",
    "y_group58_num = find_unique_cust(y_group58)\n",
    "# Gather unique numbers for Pink Cab \n",
    "p_group1827_num = find_unique_cust(p_group1827)\n",
    "p_group2837_num = find_unique_cust(p_group2837)\n",
    "p_group3847_num = find_unique_cust(p_group3847)\n",
    "p_group4857_num = find_unique_cust(p_group4857)\n",
    "p_group58_num = find_unique_cust(p_group58)"
   ]
  },
  {
   "cell_type": "code",
   "execution_count": 259,
   "metadata": {},
   "outputs": [
    {
     "data": {
      "text/plain": [
       "<BarContainer object of 5 artists>"
      ]
     },
     "execution_count": 259,
     "metadata": {},
     "output_type": "execute_result"
    },
    {
     "data": {
      "image/png": "[encoded data removed]",
      "text/plain": [
       "<Figure size 432x288 with 2 Axes>"
      ]
     },
     "metadata": {
      "needs_background": "light"
     },
     "output_type": "display_data"
    }
   ],
   "source": [
    "# Graph the results \n",
    "age_fig, (y_age, p_age) = plt.subplots(1,2, sharey = True)\n",
    "age_fig.suptitle('Age Makeup for each Company')\n",
    "labels = ['18-27', '28-37', '38-47', '48-57', '58+']\n",
    "p_age.set_title('Pink Cab')\n",
    "y_age.set_title('Yellow Cab')\n",
    "p_counts = [p_group1827_num, p_group2837_num, p_group3847_num, p_group4857_num, p_group58_num]\n",
    "y_counts = [y_group1827_num, y_group2837_num, y_group3847_num, y_group4857_num, y_group58_num]\n",
    "p_age.bar(labels, p_counts)\n",
    "y_age.bar(labels, y_counts)\n",
    "age_fig.set_size_inches(18.5, 10.5)"
   ]
  },
  {
   "cell_type": "markdown",
   "metadata": {},
   "source": [
    "Both companies have a majority of their clients coming from younger age groups, and the age makeup for each company is very similar. "
   ]
  },
  {
   "cell_type": "markdown",
   "metadata": {},
   "source": [
    "Next, let's look at monthly income diversity for both companies. We'll define the monthly income groups as: 2k - 7k, 8k - 13k, 14k - 19k, 20k - 25k, 26k+."
   ]
  },
  {
   "cell_type": "code",
   "execution_count": 262,
   "metadata": {},
   "outputs": [],
   "source": [
    "# Gather Yellow Cab income groups \n",
    "y_group27 = y_data.loc[((y_data['Monthly_Income'] >= 2000) & (y_data['Monthly_Income'] <= 7999))]\n",
    "y_group813 = y_data.loc[((y_data['Monthly_Income'] >= 8000) & (y_data['Monthly_Income'] <= 13999))]\n",
    "y_group1419 = y_data.loc[((y_data['Monthly_Income'] >= 14000) & (y_data['Monthly_Income'] <= 19999))]\n",
    "y_group2025 = y_data.loc[((y_data['Monthly_Income'] >= 20000) & (y_data['Monthly_Income'] <= 25999))]\n",
    "y_group26 = y_data.loc[y_data['Monthly_Income'] >= 26000]\n",
    "# Gather Pink Cab income groups \n",
    "p_group27 = p_data.loc[((p_data['Monthly_Income'] >= 2000) & (p_data['Monthly_Income'] <= 7999))]\n",
    "p_group813 = p_data.loc[((p_data['Monthly_Income'] >= 8000) & (p_data['Monthly_Income'] <= 13999))]\n",
    "p_group1419 = p_data.loc[((p_data['Monthly_Income'] >= 14000) & (p_data['Monthly_Income'] <= 19999))]\n",
    "p_group2025 = p_data.loc[((p_data['Monthly_Income'] >= 20000) & (p_data['Monthly_Income'] <= 25999))]\n",
    "p_group26 = p_data.loc[p_data['Monthly_Income'] >= 26000]"
   ]
  },
  {
   "cell_type": "code",
   "execution_count": 263,
   "metadata": {},
   "outputs": [],
   "source": [
    "# Gather unique numbers for Yellow Cab \n",
    "y_group27_num = find_unique_cust(y_group27)\n",
    "y_group813_num = find_unique_cust(y_group813)\n",
    "y_group1419_num = find_unique_cust(y_group1419)\n",
    "y_group2025_num = find_unique_cust(y_group2025)\n",
    "y_group26_num = find_unique_cust(y_group26)\n",
    "# Gather unique numbers for Pink Cab \n",
    "p_group27_num = find_unique_cust(p_group27)\n",
    "p_group813_num = find_unique_cust(p_group813)\n",
    "p_group1419_num = find_unique_cust(p_group1419)\n",
    "p_group2025_num = find_unique_cust(p_group2025)\n",
    "p_group26_num = find_unique_cust(p_group26)"
   ]
  },
  {
   "cell_type": "code",
   "execution_count": 266,
   "metadata": {},
   "outputs": [
    {
     "data": {
      "image/png": "[encoded data removed]",
      "text/plain": [
       "<Figure size 1332x756 with 2 Axes>"
      ]
     },
     "metadata": {
      "needs_background": "light"
     },
     "output_type": "display_data"
    }
   ],
   "source": [
    "# Graph the results \n",
    "inc_fig, (y_inc, p_inc) = plt.subplots(1,2, sharey = True)\n",
    "inc_fig.suptitle('Monthly Income(USD) Makeup for each Company')\n",
    "labels = ['2k-7k', '8k-13k', '14k-19k', '20k-25k', '26k+']\n",
    "p_inc.set_title('Pink Cab')\n",
    "y_inc.set_title('Yellow Cab')\n",
    "p_counts = [p_group27_num, p_group813_num, p_group1419_num, p_group2025_num, p_group26_num]\n",
    "y_counts = [y_group27_num, y_group813_num, y_group1419_num, y_group2025_num, y_group26_num]\n",
    "p_inc.bar(labels, p_counts)\n",
    "y_inc.bar(labels, y_counts)\n",
    "inc_fig.set_size_inches(18.5, 10.5)"
   ]
  },
  {
   "cell_type": "markdown",
   "metadata": {},
   "source": [
    "Again, the two companies have very similar income diversity, with both leaning towards lower to middle-high classes. "
   ]
  },
  {
   "cell_type": "markdown",
   "metadata": {},
   "source": [
    "# Reccomendation\n",
    "Now that we have performed the necessary analyses on both of the companies, it is time to provide our informed reccomendation on which company to invest in. Let's go over the different factors that influenced our decision. "
   ]
  },
  {
   "cell_type": "markdown",
   "metadata": {},
   "source": [
    "Consumer Traffic: \n",
    "As seen in our first hypothesis, the Yellow Cab Company receives significantly more consumer traffic throughour every month of the year. On top of this, they also have a significantly higher profit per trip. Because of this, the Yellow Cab Company receives a strong advantage in this area. "
   ]
  },
  {
   "cell_type": "markdown",
   "metadata": {},
   "source": [
    "Customer Satisfaction: \n",
    "It's safe to say that if a customer re-books with the same company within a week of their previous trip, they were satisfied with their ride. When looking at these \"repeat customers\" it's clear that the Yellow Cab Company has significantly more satisfied customers than the Pink Cab Company. "
   ]
  },
  {
   "cell_type": "markdown",
   "metadata": {},
   "source": [
    "Efficiency of Trips: \n",
    "In the cab industry, it's important that the company is receiving as much income per KM as possible. When looking at the graphs of Trip price / KM vs Customer Monthly income, we can see that each company brings in about the same range of income classes. However, if we look at the number of high revenue trips, we can see that the Yellow Cab Company has significantly more of them. "
   ]
  },
  {
   "cell_type": "markdown",
   "metadata": {},
   "source": [
    "\"Big City\" Prescense: \n",
    "Naturally, trips will be more expensive in bigger cities due to the amount of people. It's important to look at the client makeup and see what percent of the company's users reside in the bigger cities. If we look at the \"Big City Score\" that was calculated above, we can see the Yellow Cab Company does significantly better in this area, which is a good sign for future profit. "
   ]
  },
  {
   "cell_type": "markdown",
   "metadata": {},
   "source": [
    "Customer Diversity: \n",
    "In any industry, it's important to have a diverse clientele so that your revenue is coming from many different groups. When looking at the diversity of both companies, they appear to be about the same, so no comapany is given an advantage in this area. "
   ]
  },
  {
   "cell_type": "markdown",
   "metadata": {},
   "source": [
    "Taking all of this information in, it's clear that the Yellow Cab Company is the best company to invest in. They outperform the Pink Cab Company in almost every area, and it's safe to say they are the better choice in this scenario. "
   ]
  },
  {
   "cell_type": "markdown",
   "metadata": {},
   "source": [
    "* NOTE: graphs will be cleaned up before being pasted into PPT * "
   ]
  },
  {
   "cell_type": "code",
   "execution_count": null,
   "metadata": {},
   "outputs": [],
   "source": []
  }
 ],
 "metadata": {
  "kernelspec": {
   "display_name": "Python 3",
   "language": "python",
   "name": "python3"
  },
  "language_info": {
   "codemirror_mode": {
    "name": "ipython",
    "version": 3
   },
   "file_extension": ".py",
   "mimetype": "text/x-python",
   "name": "python",
   "nbconvert_exporter": "python",
   "pygments_lexer": "ipython3",
   "version": "3.8.5"
  }
 },
 "nbformat": 4,
 "nbformat_minor": 4
}
